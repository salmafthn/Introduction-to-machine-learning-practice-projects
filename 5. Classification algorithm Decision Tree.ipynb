{
  "nbformat": 4,
  "nbformat_minor": 0,
  "metadata": {
    "colab": {
      "provenance": []
    },
    "kernelspec": {
      "name": "python3",
      "display_name": "Python 3"
    }
  },
  "cells": [
    {
      "cell_type": "markdown",
      "metadata": {
        "id": "-qDsm6BnME2X"
      },
      "source": [
        "# Praktikum Pengantar Pembelajaran Mesin\n",
        "\n",
        "\n",
        "---\n",
        "## Bab 5. Klasifikasi Decision Tree\n"
      ]
    },
    {
      "cell_type": "markdown",
      "metadata": {
        "id": "sQAGcnK3MOS7"
      },
      "source": [
        "### 1) Import Data\n",
        "\n",
        "Praktikum kali ini menggunakan dataset [Car Evaluation Dataset](https://archive.ics.uci.edu/ml/datasets/Car+Evaluation) dari UCI Machine Learning Repository. Dataset ini telah digunakan pada praktikum sebelumnya. Detail fitur dapat Anda pelajari pada link yang tersedia.\n",
        "\n",
        "Unduh dataset yang akan digunakan pada praktikum kali ini. Anda dapat menggunakan aplikasi wget untuk mendowload dataset dan menyimpannya dalam Google Colab. Jalankan cell di bawah ini untuk mengunduh dataset"
      ]
    },
    {
      "cell_type": "code",
      "source": [
        "from google.colab import files\n",
        "files.upload()"
      ],
      "metadata": {
        "id": "OBmFIAH1HNZI",
        "outputId": "2b82a16b-5ea9-438b-d886-6b285ebe40a7",
        "colab": {
          "base_uri": "https://localhost:8080/",
          "height": 133
        }
      },
      "execution_count": 1,
      "outputs": [
        {
          "output_type": "display_data",
          "data": {
            "text/plain": [
              "<IPython.core.display.HTML object>"
            ],
            "text/html": [
              "\n",
              "     <input type=\"file\" id=\"files-fb379347-5f4d-4f22-b5d3-064c627127f0\" name=\"files[]\" multiple disabled\n",
              "        style=\"border:none\" />\n",
              "     <output id=\"result-fb379347-5f4d-4f22-b5d3-064c627127f0\">\n",
              "      Upload widget is only available when the cell has been executed in the\n",
              "      current browser session. Please rerun this cell to enable.\n",
              "      </output>\n",
              "      <script>// Copyright 2017 Google LLC\n",
              "//\n",
              "// Licensed under the Apache License, Version 2.0 (the \"License\");\n",
              "// you may not use this file except in compliance with the License.\n",
              "// You may obtain a copy of the License at\n",
              "//\n",
              "//      http://www.apache.org/licenses/LICENSE-2.0\n",
              "//\n",
              "// Unless required by applicable law or agreed to in writing, software\n",
              "// distributed under the License is distributed on an \"AS IS\" BASIS,\n",
              "// WITHOUT WARRANTIES OR CONDITIONS OF ANY KIND, either express or implied.\n",
              "// See the License for the specific language governing permissions and\n",
              "// limitations under the License.\n",
              "\n",
              "/**\n",
              " * @fileoverview Helpers for google.colab Python module.\n",
              " */\n",
              "(function(scope) {\n",
              "function span(text, styleAttributes = {}) {\n",
              "  const element = document.createElement('span');\n",
              "  element.textContent = text;\n",
              "  for (const key of Object.keys(styleAttributes)) {\n",
              "    element.style[key] = styleAttributes[key];\n",
              "  }\n",
              "  return element;\n",
              "}\n",
              "\n",
              "// Max number of bytes which will be uploaded at a time.\n",
              "const MAX_PAYLOAD_SIZE = 100 * 1024;\n",
              "\n",
              "function _uploadFiles(inputId, outputId) {\n",
              "  const steps = uploadFilesStep(inputId, outputId);\n",
              "  const outputElement = document.getElementById(outputId);\n",
              "  // Cache steps on the outputElement to make it available for the next call\n",
              "  // to uploadFilesContinue from Python.\n",
              "  outputElement.steps = steps;\n",
              "\n",
              "  return _uploadFilesContinue(outputId);\n",
              "}\n",
              "\n",
              "// This is roughly an async generator (not supported in the browser yet),\n",
              "// where there are multiple asynchronous steps and the Python side is going\n",
              "// to poll for completion of each step.\n",
              "// This uses a Promise to block the python side on completion of each step,\n",
              "// then passes the result of the previous step as the input to the next step.\n",
              "function _uploadFilesContinue(outputId) {\n",
              "  const outputElement = document.getElementById(outputId);\n",
              "  const steps = outputElement.steps;\n",
              "\n",
              "  const next = steps.next(outputElement.lastPromiseValue);\n",
              "  return Promise.resolve(next.value.promise).then((value) => {\n",
              "    // Cache the last promise value to make it available to the next\n",
              "    // step of the generator.\n",
              "    outputElement.lastPromiseValue = value;\n",
              "    return next.value.response;\n",
              "  });\n",
              "}\n",
              "\n",
              "/**\n",
              " * Generator function which is called between each async step of the upload\n",
              " * process.\n",
              " * @param {string} inputId Element ID of the input file picker element.\n",
              " * @param {string} outputId Element ID of the output display.\n",
              " * @return {!Iterable<!Object>} Iterable of next steps.\n",
              " */\n",
              "function* uploadFilesStep(inputId, outputId) {\n",
              "  const inputElement = document.getElementById(inputId);\n",
              "  inputElement.disabled = false;\n",
              "\n",
              "  const outputElement = document.getElementById(outputId);\n",
              "  outputElement.innerHTML = '';\n",
              "\n",
              "  const pickedPromise = new Promise((resolve) => {\n",
              "    inputElement.addEventListener('change', (e) => {\n",
              "      resolve(e.target.files);\n",
              "    });\n",
              "  });\n",
              "\n",
              "  const cancel = document.createElement('button');\n",
              "  inputElement.parentElement.appendChild(cancel);\n",
              "  cancel.textContent = 'Cancel upload';\n",
              "  const cancelPromise = new Promise((resolve) => {\n",
              "    cancel.onclick = () => {\n",
              "      resolve(null);\n",
              "    };\n",
              "  });\n",
              "\n",
              "  // Wait for the user to pick the files.\n",
              "  const files = yield {\n",
              "    promise: Promise.race([pickedPromise, cancelPromise]),\n",
              "    response: {\n",
              "      action: 'starting',\n",
              "    }\n",
              "  };\n",
              "\n",
              "  cancel.remove();\n",
              "\n",
              "  // Disable the input element since further picks are not allowed.\n",
              "  inputElement.disabled = true;\n",
              "\n",
              "  if (!files) {\n",
              "    return {\n",
              "      response: {\n",
              "        action: 'complete',\n",
              "      }\n",
              "    };\n",
              "  }\n",
              "\n",
              "  for (const file of files) {\n",
              "    const li = document.createElement('li');\n",
              "    li.append(span(file.name, {fontWeight: 'bold'}));\n",
              "    li.append(span(\n",
              "        `(${file.type || 'n/a'}) - ${file.size} bytes, ` +\n",
              "        `last modified: ${\n",
              "            file.lastModifiedDate ? file.lastModifiedDate.toLocaleDateString() :\n",
              "                                    'n/a'} - `));\n",
              "    const percent = span('0% done');\n",
              "    li.appendChild(percent);\n",
              "\n",
              "    outputElement.appendChild(li);\n",
              "\n",
              "    const fileDataPromise = new Promise((resolve) => {\n",
              "      const reader = new FileReader();\n",
              "      reader.onload = (e) => {\n",
              "        resolve(e.target.result);\n",
              "      };\n",
              "      reader.readAsArrayBuffer(file);\n",
              "    });\n",
              "    // Wait for the data to be ready.\n",
              "    let fileData = yield {\n",
              "      promise: fileDataPromise,\n",
              "      response: {\n",
              "        action: 'continue',\n",
              "      }\n",
              "    };\n",
              "\n",
              "    // Use a chunked sending to avoid message size limits. See b/62115660.\n",
              "    let position = 0;\n",
              "    do {\n",
              "      const length = Math.min(fileData.byteLength - position, MAX_PAYLOAD_SIZE);\n",
              "      const chunk = new Uint8Array(fileData, position, length);\n",
              "      position += length;\n",
              "\n",
              "      const base64 = btoa(String.fromCharCode.apply(null, chunk));\n",
              "      yield {\n",
              "        response: {\n",
              "          action: 'append',\n",
              "          file: file.name,\n",
              "          data: base64,\n",
              "        },\n",
              "      };\n",
              "\n",
              "      let percentDone = fileData.byteLength === 0 ?\n",
              "          100 :\n",
              "          Math.round((position / fileData.byteLength) * 100);\n",
              "      percent.textContent = `${percentDone}% done`;\n",
              "\n",
              "    } while (position < fileData.byteLength);\n",
              "  }\n",
              "\n",
              "  // All done.\n",
              "  yield {\n",
              "    response: {\n",
              "      action: 'complete',\n",
              "    }\n",
              "  };\n",
              "}\n",
              "\n",
              "scope.google = scope.google || {};\n",
              "scope.google.colab = scope.google.colab || {};\n",
              "scope.google.colab._files = {\n",
              "  _uploadFiles,\n",
              "  _uploadFilesContinue,\n",
              "};\n",
              "})(self);\n",
              "</script> "
            ]
          },
          "metadata": {}
        },
        {
          "output_type": "stream",
          "name": "stdout",
          "text": [
            "Saving car_evaluation.csv to car_evaluation.csv\n"
          ]
        },
        {
          "output_type": "execute_result",
          "data": {
            "text/plain": [
              "{'car_evaluation.csv': b'buying,maint,lug_boot,safety,class\\r\\nvhigh,vhigh,small,low,unacc\\r\\nvhigh,vhigh,small,med,unacc\\r\\nvhigh,vhigh,small,high,unacc\\r\\nvhigh,vhigh,med,low,unacc\\r\\nvhigh,vhigh,med,med,unacc\\r\\nvhigh,vhigh,med,high,unacc\\r\\nvhigh,vhigh,big,low,unacc\\r\\nvhigh,vhigh,big,med,unacc\\r\\nvhigh,vhigh,big,high,unacc\\r\\nvhigh,vhigh,small,low,unacc\\r\\nvhigh,vhigh,small,med,unacc\\r\\nvhigh,vhigh,small,high,unacc\\r\\nvhigh,vhigh,med,low,unacc\\r\\nvhigh,vhigh,med,med,unacc\\r\\nvhigh,vhigh,med,high,unacc\\r\\nvhigh,vhigh,big,low,unacc\\r\\nvhigh,vhigh,big,med,unacc\\r\\nvhigh,vhigh,big,high,unacc\\r\\nvhigh,vhigh,small,low,unacc\\r\\nvhigh,vhigh,small,med,unacc\\r\\nvhigh,vhigh,small,high,unacc\\r\\nvhigh,vhigh,med,low,unacc\\r\\nvhigh,vhigh,med,med,unacc\\r\\nvhigh,vhigh,med,high,unacc\\r\\nvhigh,vhigh,big,low,unacc\\r\\nvhigh,vhigh,big,med,unacc\\r\\nvhigh,vhigh,big,high,unacc\\r\\nvhigh,vhigh,small,low,unacc\\r\\nvhigh,vhigh,small,med,unacc\\r\\nvhigh,vhigh,small,high,unacc\\r\\nvhigh,vhigh,med,low,unacc\\r\\nvhigh,vhigh,med,med,unacc\\r\\nvhigh,vhigh,med,high,unacc\\r\\nvhigh,vhigh,big,low,unacc\\r\\nvhigh,vhigh,big,med,unacc\\r\\nvhigh,vhigh,big,high,unacc\\r\\nvhigh,vhigh,small,low,unacc\\r\\nvhigh,vhigh,small,med,unacc\\r\\nvhigh,vhigh,small,high,unacc\\r\\nvhigh,vhigh,med,low,unacc\\r\\nvhigh,vhigh,med,med,unacc\\r\\nvhigh,vhigh,med,high,unacc\\r\\nvhigh,vhigh,big,low,unacc\\r\\nvhigh,vhigh,big,med,unacc\\r\\nvhigh,vhigh,big,high,unacc\\r\\nvhigh,vhigh,small,low,unacc\\r\\nvhigh,vhigh,small,med,unacc\\r\\nvhigh,vhigh,small,high,unacc\\r\\nvhigh,vhigh,med,low,unacc\\r\\nvhigh,vhigh,med,med,unacc\\r\\nvhigh,vhigh,med,high,unacc\\r\\nvhigh,vhigh,big,low,unacc\\r\\nvhigh,vhigh,big,med,unacc\\r\\nvhigh,vhigh,big,high,unacc\\r\\nvhigh,vhigh,small,low,unacc\\r\\nvhigh,vhigh,small,med,unacc\\r\\nvhigh,vhigh,small,high,unacc\\r\\nvhigh,vhigh,med,low,unacc\\r\\nvhigh,vhigh,med,med,unacc\\r\\nvhigh,vhigh,med,high,unacc\\r\\nvhigh,vhigh,big,low,unacc\\r\\nvhigh,vhigh,big,med,unacc\\r\\nvhigh,vhigh,big,high,unacc\\r\\nvhigh,vhigh,small,low,unacc\\r\\nvhigh,vhigh,small,med,unacc\\r\\nvhigh,vhigh,small,high,unacc\\r\\nvhigh,vhigh,med,low,unacc\\r\\nvhigh,vhigh,med,med,unacc\\r\\nvhigh,vhigh,med,high,unacc\\r\\nvhigh,vhigh,big,low,unacc\\r\\nvhigh,vhigh,big,med,unacc\\r\\nvhigh,vhigh,big,high,unacc\\r\\nvhigh,vhigh,small,low,unacc\\r\\nvhigh,vhigh,small,med,unacc\\r\\nvhigh,vhigh,small,high,unacc\\r\\nvhigh,vhigh,med,low,unacc\\r\\nvhigh,vhigh,med,med,unacc\\r\\nvhigh,vhigh,med,high,unacc\\r\\nvhigh,vhigh,big,low,unacc\\r\\nvhigh,vhigh,big,med,unacc\\r\\nvhigh,vhigh,big,high,unacc\\r\\nvhigh,vhigh,small,low,unacc\\r\\nvhigh,vhigh,small,med,unacc\\r\\nvhigh,vhigh,small,high,unacc\\r\\nvhigh,vhigh,med,low,unacc\\r\\nvhigh,vhigh,med,med,unacc\\r\\nvhigh,vhigh,med,high,unacc\\r\\nvhigh,vhigh,big,low,unacc\\r\\nvhigh,vhigh,big,med,unacc\\r\\nvhigh,vhigh,big,high,unacc\\r\\nvhigh,vhigh,small,low,unacc\\r\\nvhigh,vhigh,small,med,unacc\\r\\nvhigh,vhigh,small,high,unacc\\r\\nvhigh,vhigh,med,low,unacc\\r\\nvhigh,vhigh,med,med,unacc\\r\\nvhigh,vhigh,med,high,unacc\\r\\nvhigh,vhigh,big,low,unacc\\r\\nvhigh,vhigh,big,med,unacc\\r\\nvhigh,vhigh,big,high,unacc\\r\\nvhigh,vhigh,small,low,unacc\\r\\nvhigh,vhigh,small,med,unacc\\r\\nvhigh,vhigh,small,high,unacc\\r\\nvhigh,vhigh,med,low,unacc\\r\\nvhigh,vhigh,med,med,unacc\\r\\nvhigh,vhigh,med,high,unacc\\r\\nvhigh,vhigh,big,low,unacc\\r\\nvhigh,vhigh,big,med,unacc\\r\\nvhigh,vhigh,big,high,unacc\\r\\nvhigh,high,small,low,unacc\\r\\nvhigh,high,small,med,unacc\\r\\nvhigh,high,small,high,unacc\\r\\nvhigh,high,med,low,unacc\\r\\nvhigh,high,med,med,unacc\\r\\nvhigh,high,med,high,unacc\\r\\nvhigh,high,big,low,unacc\\r\\nvhigh,high,big,med,unacc\\r\\nvhigh,high,big,high,unacc\\r\\nvhigh,high,small,low,unacc\\r\\nvhigh,high,small,med,unacc\\r\\nvhigh,high,small,high,unacc\\r\\nvhigh,high,med,low,unacc\\r\\nvhigh,high,med,med,unacc\\r\\nvhigh,high,med,high,unacc\\r\\nvhigh,high,big,low,unacc\\r\\nvhigh,high,big,med,unacc\\r\\nvhigh,high,big,high,unacc\\r\\nvhigh,high,small,low,unacc\\r\\nvhigh,high,small,med,unacc\\r\\nvhigh,high,small,high,unacc\\r\\nvhigh,high,med,low,unacc\\r\\nvhigh,high,med,med,unacc\\r\\nvhigh,high,med,high,unacc\\r\\nvhigh,high,big,low,unacc\\r\\nvhigh,high,big,med,unacc\\r\\nvhigh,high,big,high,unacc\\r\\nvhigh,high,small,low,unacc\\r\\nvhigh,high,small,med,unacc\\r\\nvhigh,high,small,high,unacc\\r\\nvhigh,high,med,low,unacc\\r\\nvhigh,high,med,med,unacc\\r\\nvhigh,high,med,high,unacc\\r\\nvhigh,high,big,low,unacc\\r\\nvhigh,high,big,med,unacc\\r\\nvhigh,high,big,high,unacc\\r\\nvhigh,high,small,low,unacc\\r\\nvhigh,high,small,med,unacc\\r\\nvhigh,high,small,high,unacc\\r\\nvhigh,high,med,low,unacc\\r\\nvhigh,high,med,med,unacc\\r\\nvhigh,high,med,high,unacc\\r\\nvhigh,high,big,low,unacc\\r\\nvhigh,high,big,med,unacc\\r\\nvhigh,high,big,high,unacc\\r\\nvhigh,high,small,low,unacc\\r\\nvhigh,high,small,med,unacc\\r\\nvhigh,high,small,high,unacc\\r\\nvhigh,high,med,low,unacc\\r\\nvhigh,high,med,med,unacc\\r\\nvhigh,high,med,high,unacc\\r\\nvhigh,high,big,low,unacc\\r\\nvhigh,high,big,med,unacc\\r\\nvhigh,high,big,high,unacc\\r\\nvhigh,high,small,low,unacc\\r\\nvhigh,high,small,med,unacc\\r\\nvhigh,high,small,high,unacc\\r\\nvhigh,high,med,low,unacc\\r\\nvhigh,high,med,med,unacc\\r\\nvhigh,high,med,high,unacc\\r\\nvhigh,high,big,low,unacc\\r\\nvhigh,high,big,med,unacc\\r\\nvhigh,high,big,high,unacc\\r\\nvhigh,high,small,low,unacc\\r\\nvhigh,high,small,med,unacc\\r\\nvhigh,high,small,high,unacc\\r\\nvhigh,high,med,low,unacc\\r\\nvhigh,high,med,med,unacc\\r\\nvhigh,high,med,high,unacc\\r\\nvhigh,high,big,low,unacc\\r\\nvhigh,high,big,med,unacc\\r\\nvhigh,high,big,high,unacc\\r\\nvhigh,high,small,low,unacc\\r\\nvhigh,high,small,med,unacc\\r\\nvhigh,high,small,high,unacc\\r\\nvhigh,high,med,low,unacc\\r\\nvhigh,high,med,med,unacc\\r\\nvhigh,high,med,high,unacc\\r\\nvhigh,high,big,low,unacc\\r\\nvhigh,high,big,med,unacc\\r\\nvhigh,high,big,high,unacc\\r\\nvhigh,high,small,low,unacc\\r\\nvhigh,high,small,med,unacc\\r\\nvhigh,high,small,high,unacc\\r\\nvhigh,high,med,low,unacc\\r\\nvhigh,high,med,med,unacc\\r\\nvhigh,high,med,high,unacc\\r\\nvhigh,high,big,low,unacc\\r\\nvhigh,high,big,med,unacc\\r\\nvhigh,high,big,high,unacc\\r\\nvhigh,high,small,low,unacc\\r\\nvhigh,high,small,med,unacc\\r\\nvhigh,high,small,high,unacc\\r\\nvhigh,high,med,low,unacc\\r\\nvhigh,high,med,med,unacc\\r\\nvhigh,high,med,high,unacc\\r\\nvhigh,high,big,low,unacc\\r\\nvhigh,high,big,med,unacc\\r\\nvhigh,high,big,high,unacc\\r\\nvhigh,high,small,low,unacc\\r\\nvhigh,high,small,med,unacc\\r\\nvhigh,high,small,high,unacc\\r\\nvhigh,high,med,low,unacc\\r\\nvhigh,high,med,med,unacc\\r\\nvhigh,high,med,high,unacc\\r\\nvhigh,high,big,low,unacc\\r\\nvhigh,high,big,med,unacc\\r\\nvhigh,high,big,high,unacc\\r\\nvhigh,med,small,low,unacc\\r\\nvhigh,med,small,med,unacc\\r\\nvhigh,med,small,high,unacc\\r\\nvhigh,med,med,low,unacc\\r\\nvhigh,med,med,med,unacc\\r\\nvhigh,med,med,high,unacc\\r\\nvhigh,med,big,low,unacc\\r\\nvhigh,med,big,med,unacc\\r\\nvhigh,med,big,high,unacc\\r\\nvhigh,med,small,low,unacc\\r\\nvhigh,med,small,med,unacc\\r\\nvhigh,med,small,high,acc\\r\\nvhigh,med,med,low,unacc\\r\\nvhigh,med,med,med,unacc\\r\\nvhigh,med,med,high,acc\\r\\nvhigh,med,big,low,unacc\\r\\nvhigh,med,big,med,acc\\r\\nvhigh,med,big,high,acc\\r\\nvhigh,med,small,low,unacc\\r\\nvhigh,med,small,med,unacc\\r\\nvhigh,med,small,high,unacc\\r\\nvhigh,med,med,low,unacc\\r\\nvhigh,med,med,med,unacc\\r\\nvhigh,med,med,high,acc\\r\\nvhigh,med,big,low,unacc\\r\\nvhigh,med,big,med,acc\\r\\nvhigh,med,big,high,acc\\r\\nvhigh,med,small,low,unacc\\r\\nvhigh,med,small,med,unacc\\r\\nvhigh,med,small,high,unacc\\r\\nvhigh,med,med,low,unacc\\r\\nvhigh,med,med,med,unacc\\r\\nvhigh,med,med,high,unacc\\r\\nvhigh,med,big,low,unacc\\r\\nvhigh,med,big,med,unacc\\r\\nvhigh,med,big,high,unacc\\r\\nvhigh,med,small,low,unacc\\r\\nvhigh,med,small,med,unacc\\r\\nvhigh,med,small,high,acc\\r\\nvhigh,med,med,low,unacc\\r\\nvhigh,med,med,med,unacc\\r\\nvhigh,med,med,high,acc\\r\\nvhigh,med,big,low,unacc\\r\\nvhigh,med,big,med,acc\\r\\nvhigh,med,big,high,acc\\r\\nvhigh,med,small,low,unacc\\r\\nvhigh,med,small,med,unacc\\r\\nvhigh,med,small,high,acc\\r\\nvhigh,med,med,low,unacc\\r\\nvhigh,med,med,med,acc\\r\\nvhigh,med,med,high,acc\\r\\nvhigh,med,big,low,unacc\\r\\nvhigh,med,big,med,acc\\r\\nvhigh,med,big,high,acc\\r\\nvhigh,med,small,low,unacc\\r\\nvhigh,med,small,med,unacc\\r\\nvhigh,med,small,high,unacc\\r\\nvhigh,med,med,low,unacc\\r\\nvhigh,med,med,med,unacc\\r\\nvhigh,med,med,high,unacc\\r\\nvhigh,med,big,low,unacc\\r\\nvhigh,med,big,med,unacc\\r\\nvhigh,med,big,high,unacc\\r\\nvhigh,med,small,low,unacc\\r\\nvhigh,med,small,med,unacc\\r\\nvhigh,med,small,high,acc\\r\\nvhigh,med,med,low,unacc\\r\\nvhigh,med,med,med,acc\\r\\nvhigh,med,med,high,acc\\r\\nvhigh,med,big,low,unacc\\r\\nvhigh,med,big,med,acc\\r\\nvhigh,med,big,high,acc\\r\\nvhigh,med,small,low,unacc\\r\\nvhigh,med,small,med,unacc\\r\\nvhigh,med,small,high,acc\\r\\nvhigh,med,med,low,unacc\\r\\nvhigh,med,med,med,acc\\r\\nvhigh,med,med,high,acc\\r\\nvhigh,med,big,low,unacc\\r\\nvhigh,med,big,med,acc\\r\\nvhigh,med,big,high,acc\\r\\nvhigh,med,small,low,unacc\\r\\nvhigh,med,small,med,unacc\\r\\nvhigh,med,small,high,unacc\\r\\nvhigh,med,med,low,unacc\\r\\nvhigh,med,med,med,unacc\\r\\nvhigh,med,med,high,unacc\\r\\nvhigh,med,big,low,unacc\\r\\nvhigh,med,big,med,unacc\\r\\nvhigh,med,big,high,unacc\\r\\nvhigh,med,small,low,unacc\\r\\nvhigh,med,small,med,unacc\\r\\nvhigh,med,small,high,acc\\r\\nvhigh,med,med,low,unacc\\r\\nvhigh,med,med,med,acc\\r\\nvhigh,med,med,high,acc\\r\\nvhigh,med,big,low,unacc\\r\\nvhigh,med,big,med,acc\\r\\nvhigh,med,big,high,acc\\r\\nvhigh,med,small,low,unacc\\r\\nvhigh,med,small,med,unacc\\r\\nvhigh,med,small,high,acc\\r\\nvhigh,med,med,low,unacc\\r\\nvhigh,med,med,med,acc\\r\\nvhigh,med,med,high,acc\\r\\nvhigh,med,big,low,unacc\\r\\nvhigh,med,big,med,acc\\r\\nvhigh,med,big,high,acc\\r\\nvhigh,low,small,low,unacc\\r\\nvhigh,low,small,med,unacc\\r\\nvhigh,low,small,high,unacc\\r\\nvhigh,low,med,low,unacc\\r\\nvhigh,low,med,med,unacc\\r\\nvhigh,low,med,high,unacc\\r\\nvhigh,low,big,low,unacc\\r\\nvhigh,low,big,med,unacc\\r\\nvhigh,low,big,high,unacc\\r\\nvhigh,low,small,low,unacc\\r\\nvhigh,low,small,med,unacc\\r\\nvhigh,low,small,high,acc\\r\\nvhigh,low,med,low,unacc\\r\\nvhigh,low,med,med,unacc\\r\\nvhigh,low,med,high,acc\\r\\nvhigh,low,big,low,unacc\\r\\nvhigh,low,big,med,acc\\r\\nvhigh,low,big,high,acc\\r\\nvhigh,low,small,low,unacc\\r\\nvhigh,low,small,med,unacc\\r\\nvhigh,low,small,high,unacc\\r\\nvhigh,low,med,low,unacc\\r\\nvhigh,low,med,med,unacc\\r\\nvhigh,low,med,high,acc\\r\\nvhigh,low,big,low,unacc\\r\\nvhigh,low,big,med,acc\\r\\nvhigh,low,big,high,acc\\r\\nvhigh,low,small,low,unacc\\r\\nvhigh,low,small,med,unacc\\r\\nvhigh,low,small,high,unacc\\r\\nvhigh,low,med,low,unacc\\r\\nvhigh,low,med,med,unacc\\r\\nvhigh,low,med,high,unacc\\r\\nvhigh,low,big,low,unacc\\r\\nvhigh,low,big,med,unacc\\r\\nvhigh,low,big,high,unacc\\r\\nvhigh,low,small,low,unacc\\r\\nvhigh,low,small,med,unacc\\r\\nvhigh,low,small,high,acc\\r\\nvhigh,low,med,low,unacc\\r\\nvhigh,low,med,med,unacc\\r\\nvhigh,low,med,high,acc\\r\\nvhigh,low,big,low,unacc\\r\\nvhigh,low,big,med,acc\\r\\nvhigh,low,big,high,acc\\r\\nvhigh,low,small,low,unacc\\r\\nvhigh,low,small,med,unacc\\r\\nvhigh,low,small,high,acc\\r\\nvhigh,low,med,low,unacc\\r\\nvhigh,low,med,med,acc\\r\\nvhigh,low,med,high,acc\\r\\nvhigh,low,big,low,unacc\\r\\nvhigh,low,big,med,acc\\r\\nvhigh,low,big,high,acc\\r\\nvhigh,low,small,low,unacc\\r\\nvhigh,low,small,med,unacc\\r\\nvhigh,low,small,high,unacc\\r\\nvhigh,low,med,low,unacc\\r\\nvhigh,low,med,med,unacc\\r\\nvhigh,low,med,high,unacc\\r\\nvhigh,low,big,low,unacc\\r\\nvhigh,low,big,med,unacc\\r\\nvhigh,low,big,high,unacc\\r\\nvhigh,low,small,low,unacc\\r\\nvhigh,low,small,med,unacc\\r\\nvhigh,low,small,high,acc\\r\\nvhigh,low,med,low,unacc\\r\\nvhigh,low,med,med,acc\\r\\nvhigh,low,med,high,acc\\r\\nvhigh,low,big,low,unacc\\r\\nvhigh,low,big,med,acc\\r\\nvhigh,low,big,high,acc\\r\\nvhigh,low,small,low,unacc\\r\\nvhigh,low,small,med,unacc\\r\\nvhigh,low,small,high,acc\\r\\nvhigh,low,med,low,unacc\\r\\nvhigh,low,med,med,acc\\r\\nvhigh,low,med,high,acc\\r\\nvhigh,low,big,low,unacc\\r\\nvhigh,low,big,med,acc\\r\\nvhigh,low,big,high,acc\\r\\nvhigh,low,small,low,unacc\\r\\nvhigh,low,small,med,unacc\\r\\nvhigh,low,small,high,unacc\\r\\nvhigh,low,med,low,unacc\\r\\nvhigh,low,med,med,unacc\\r\\nvhigh,low,med,high,unacc\\r\\nvhigh,low,big,low,unacc\\r\\nvhigh,low,big,med,unacc\\r\\nvhigh,low,big,high,unacc\\r\\nvhigh,low,small,low,unacc\\r\\nvhigh,low,small,med,unacc\\r\\nvhigh,low,small,high,acc\\r\\nvhigh,low,med,low,unacc\\r\\nvhigh,low,med,med,acc\\r\\nvhigh,low,med,high,acc\\r\\nvhigh,low,big,low,unacc\\r\\nvhigh,low,big,med,acc\\r\\nvhigh,low,big,high,acc\\r\\nvhigh,low,small,low,unacc\\r\\nvhigh,low,small,med,unacc\\r\\nvhigh,low,small,high,acc\\r\\nvhigh,low,med,low,unacc\\r\\nvhigh,low,med,med,acc\\r\\nvhigh,low,med,high,acc\\r\\nvhigh,low,big,low,unacc\\r\\nvhigh,low,big,med,acc\\r\\nvhigh,low,big,high,acc\\r\\nhigh,vhigh,small,low,unacc\\r\\nhigh,vhigh,small,med,unacc\\r\\nhigh,vhigh,small,high,unacc\\r\\nhigh,vhigh,med,low,unacc\\r\\nhigh,vhigh,med,med,unacc\\r\\nhigh,vhigh,med,high,unacc\\r\\nhigh,vhigh,big,low,unacc\\r\\nhigh,vhigh,big,med,unacc\\r\\nhigh,vhigh,big,high,unacc\\r\\nhigh,vhigh,small,low,unacc\\r\\nhigh,vhigh,small,med,unacc\\r\\nhigh,vhigh,small,high,unacc\\r\\nhigh,vhigh,med,low,unacc\\r\\nhigh,vhigh,med,med,unacc\\r\\nhigh,vhigh,med,high,unacc\\r\\nhigh,vhigh,big,low,unacc\\r\\nhigh,vhigh,big,med,unacc\\r\\nhigh,vhigh,big,high,unacc\\r\\nhigh,vhigh,small,low,unacc\\r\\nhigh,vhigh,small,med,unacc\\r\\nhigh,vhigh,small,high,unacc\\r\\nhigh,vhigh,med,low,unacc\\r\\nhigh,vhigh,med,med,unacc\\r\\nhigh,vhigh,med,high,unacc\\r\\nhigh,vhigh,big,low,unacc\\r\\nhigh,vhigh,big,med,unacc\\r\\nhigh,vhigh,big,high,unacc\\r\\nhigh,vhigh,small,low,unacc\\r\\nhigh,vhigh,small,med,unacc\\r\\nhigh,vhigh,small,high,unacc\\r\\nhigh,vhigh,med,low,unacc\\r\\nhigh,vhigh,med,med,unacc\\r\\nhigh,vhigh,med,high,unacc\\r\\nhigh,vhigh,big,low,unacc\\r\\nhigh,vhigh,big,med,unacc\\r\\nhigh,vhigh,big,high,unacc\\r\\nhigh,vhigh,small,low,unacc\\r\\nhigh,vhigh,small,med,unacc\\r\\nhigh,vhigh,small,high,unacc\\r\\nhigh,vhigh,med,low,unacc\\r\\nhigh,vhigh,med,med,unacc\\r\\nhigh,vhigh,med,high,unacc\\r\\nhigh,vhigh,big,low,unacc\\r\\nhigh,vhigh,big,med,unacc\\r\\nhigh,vhigh,big,high,unacc\\r\\nhigh,vhigh,small,low,unacc\\r\\nhigh,vhigh,small,med,unacc\\r\\nhigh,vhigh,small,high,unacc\\r\\nhigh,vhigh,med,low,unacc\\r\\nhigh,vhigh,med,med,unacc\\r\\nhigh,vhigh,med,high,unacc\\r\\nhigh,vhigh,big,low,unacc\\r\\nhigh,vhigh,big,med,unacc\\r\\nhigh,vhigh,big,high,unacc\\r\\nhigh,vhigh,small,low,unacc\\r\\nhigh,vhigh,small,med,unacc\\r\\nhigh,vhigh,small,high,unacc\\r\\nhigh,vhigh,med,low,unacc\\r\\nhigh,vhigh,med,med,unacc\\r\\nhigh,vhigh,med,high,unacc\\r\\nhigh,vhigh,big,low,unacc\\r\\nhigh,vhigh,big,med,unacc\\r\\nhigh,vhigh,big,high,unacc\\r\\nhigh,vhigh,small,low,unacc\\r\\nhigh,vhigh,small,med,unacc\\r\\nhigh,vhigh,small,high,unacc\\r\\nhigh,vhigh,med,low,unacc\\r\\nhigh,vhigh,med,med,unacc\\r\\nhigh,vhigh,med,high,unacc\\r\\nhigh,vhigh,big,low,unacc\\r\\nhigh,vhigh,big,med,unacc\\r\\nhigh,vhigh,big,high,unacc\\r\\nhigh,vhigh,small,low,unacc\\r\\nhigh,vhigh,small,med,unacc\\r\\nhigh,vhigh,small,high,unacc\\r\\nhigh,vhigh,med,low,unacc\\r\\nhigh,vhigh,med,med,unacc\\r\\nhigh,vhigh,med,high,unacc\\r\\nhigh,vhigh,big,low,unacc\\r\\nhigh,vhigh,big,med,unacc\\r\\nhigh,vhigh,big,high,unacc\\r\\nhigh,vhigh,small,low,unacc\\r\\nhigh,vhigh,small,med,unacc\\r\\nhigh,vhigh,small,high,unacc\\r\\nhigh,vhigh,med,low,unacc\\r\\nhigh,vhigh,med,med,unacc\\r\\nhigh,vhigh,med,high,unacc\\r\\nhigh,vhigh,big,low,unacc\\r\\nhigh,vhigh,big,med,unacc\\r\\nhigh,vhigh,big,high,unacc\\r\\nhigh,vhigh,small,low,unacc\\r\\nhigh,vhigh,small,med,unacc\\r\\nhigh,vhigh,small,high,unacc\\r\\nhigh,vhigh,med,low,unacc\\r\\nhigh,vhigh,med,med,unacc\\r\\nhigh,vhigh,med,high,unacc\\r\\nhigh,vhigh,big,low,unacc\\r\\nhigh,vhigh,big,med,unacc\\r\\nhigh,vhigh,big,high,unacc\\r\\nhigh,vhigh,small,low,unacc\\r\\nhigh,vhigh,small,med,unacc\\r\\nhigh,vhigh,small,high,unacc\\r\\nhigh,vhigh,med,low,unacc\\r\\nhigh,vhigh,med,med,unacc\\r\\nhigh,vhigh,med,high,unacc\\r\\nhigh,vhigh,big,low,unacc\\r\\nhigh,vhigh,big,med,unacc\\r\\nhigh,vhigh,big,high,unacc\\r\\nhigh,high,small,low,unacc\\r\\nhigh,high,small,med,unacc\\r\\nhigh,high,small,high,unacc\\r\\nhigh,high,med,low,unacc\\r\\nhigh,high,med,med,unacc\\r\\nhigh,high,med,high,unacc\\r\\nhigh,high,big,low,unacc\\r\\nhigh,high,big,med,unacc\\r\\nhigh,high,big,high,unacc\\r\\nhigh,high,small,low,unacc\\r\\nhigh,high,small,med,unacc\\r\\nhigh,high,small,high,acc\\r\\nhigh,high,med,low,unacc\\r\\nhigh,high,med,med,unacc\\r\\nhigh,high,med,high,acc\\r\\nhigh,high,big,low,unacc\\r\\nhigh,high,big,med,acc\\r\\nhigh,high,big,high,acc\\r\\nhigh,high,small,low,unacc\\r\\nhigh,high,small,med,unacc\\r\\nhigh,high,small,high,unacc\\r\\nhigh,high,med,low,unacc\\r\\nhigh,high,med,med,unacc\\r\\nhigh,high,med,high,acc\\r\\nhigh,high,big,low,unacc\\r\\nhigh,high,big,med,acc\\r\\nhigh,high,big,high,acc\\r\\nhigh,high,small,low,unacc\\r\\nhigh,high,small,med,unacc\\r\\nhigh,high,small,high,unacc\\r\\nhigh,high,med,low,unacc\\r\\nhigh,high,med,med,unacc\\r\\nhigh,high,med,high,unacc\\r\\nhigh,high,big,low,unacc\\r\\nhigh,high,big,med,unacc\\r\\nhigh,high,big,high,unacc\\r\\nhigh,high,small,low,unacc\\r\\nhigh,high,small,med,unacc\\r\\nhigh,high,small,high,acc\\r\\nhigh,high,med,low,unacc\\r\\nhigh,high,med,med,unacc\\r\\nhigh,high,med,high,acc\\r\\nhigh,high,big,low,unacc\\r\\nhigh,high,big,med,acc\\r\\nhigh,high,big,high,acc\\r\\nhigh,high,small,low,unacc\\r\\nhigh,high,small,med,unacc\\r\\nhigh,high,small,high,acc\\r\\nhigh,high,med,low,unacc\\r\\nhigh,high,med,med,acc\\r\\nhigh,high,med,high,acc\\r\\nhigh,high,big,low,unacc\\r\\nhigh,high,big,med,acc\\r\\nhigh,high,big,high,acc\\r\\nhigh,high,small,low,unacc\\r\\nhigh,high,small,med,unacc\\r\\nhigh,high,small,high,unacc\\r\\nhigh,high,med,low,unacc\\r\\nhigh,high,med,med,unacc\\r\\nhigh,high,med,high,unacc\\r\\nhigh,high,big,low,unacc\\r\\nhigh,high,big,med,unacc\\r\\nhigh,high,big,high,unacc\\r\\nhigh,high,small,low,unacc\\r\\nhigh,high,small,med,unacc\\r\\nhigh,high,small,high,acc\\r\\nhigh,high,med,low,unacc\\r\\nhigh,high,med,med,acc\\r\\nhigh,high,med,high,acc\\r\\nhigh,high,big,low,unacc\\r\\nhigh,high,big,med,acc\\r\\nhigh,high,big,high,acc\\r\\nhigh,high,small,low,unacc\\r\\nhigh,high,small,med,unacc\\r\\nhigh,high,small,high,acc\\r\\nhigh,high,med,low,unacc\\r\\nhigh,high,med,med,acc\\r\\nhigh,high,med,high,acc\\r\\nhigh,high,big,low,unacc\\r\\nhigh,high,big,med,acc\\r\\nhigh,high,big,high,acc\\r\\nhigh,high,small,low,unacc\\r\\nhigh,high,small,med,unacc\\r\\nhigh,high,small,high,unacc\\r\\nhigh,high,med,low,unacc\\r\\nhigh,high,med,med,unacc\\r\\nhigh,high,med,high,unacc\\r\\nhigh,high,big,low,unacc\\r\\nhigh,high,big,med,unacc\\r\\nhigh,high,big,high,unacc\\r\\nhigh,high,small,low,unacc\\r\\nhigh,high,small,med,unacc\\r\\nhigh,high,small,high,acc\\r\\nhigh,high,med,low,unacc\\r\\nhigh,high,med,med,acc\\r\\nhigh,high,med,high,acc\\r\\nhigh,high,big,low,unacc\\r\\nhigh,high,big,med,acc\\r\\nhigh,high,big,high,acc\\r\\nhigh,high,small,low,unacc\\r\\nhigh,high,small,med,unacc\\r\\nhigh,high,small,high,acc\\r\\nhigh,high,med,low,unacc\\r\\nhigh,high,med,med,acc\\r\\nhigh,high,med,high,acc\\r\\nhigh,high,big,low,unacc\\r\\nhigh,high,big,med,acc\\r\\nhigh,high,big,high,acc\\r\\nhigh,med,small,low,unacc\\r\\nhigh,med,small,med,unacc\\r\\nhigh,med,small,high,unacc\\r\\nhigh,med,med,low,unacc\\r\\nhigh,med,med,med,unacc\\r\\nhigh,med,med,high,unacc\\r\\nhigh,med,big,low,unacc\\r\\nhigh,med,big,med,unacc\\r\\nhigh,med,big,high,unacc\\r\\nhigh,med,small,low,unacc\\r\\nhigh,med,small,med,unacc\\r\\nhigh,med,small,high,acc\\r\\nhigh,med,med,low,unacc\\r\\nhigh,med,med,med,unacc\\r\\nhigh,med,med,high,acc\\r\\nhigh,med,big,low,unacc\\r\\nhigh,med,big,med,acc\\r\\nhigh,med,big,high,acc\\r\\nhigh,med,small,low,unacc\\r\\nhigh,med,small,med,unacc\\r\\nhigh,med,small,high,unacc\\r\\nhigh,med,med,low,unacc\\r\\nhigh,med,med,med,unacc\\r\\nhigh,med,med,high,acc\\r\\nhigh,med,big,low,unacc\\r\\nhigh,med,big,med,acc\\r\\nhigh,med,big,high,acc\\r\\nhigh,med,small,low,unacc\\r\\nhigh,med,small,med,unacc\\r\\nhigh,med,small,high,unacc\\r\\nhigh,med,med,low,unacc\\r\\nhigh,med,med,med,unacc\\r\\nhigh,med,med,high,unacc\\r\\nhigh,med,big,low,unacc\\r\\nhigh,med,big,med,unacc\\r\\nhigh,med,big,high,unacc\\r\\nhigh,med,small,low,unacc\\r\\nhigh,med,small,med,unacc\\r\\nhigh,med,small,high,acc\\r\\nhigh,med,med,low,unacc\\r\\nhigh,med,med,med,unacc\\r\\nhigh,med,med,high,acc\\r\\nhigh,med,big,low,unacc\\r\\nhigh,med,big,med,acc\\r\\nhigh,med,big,high,acc\\r\\nhigh,med,small,low,unacc\\r\\nhigh,med,small,med,unacc\\r\\nhigh,med,small,high,acc\\r\\nhigh,med,med,low,unacc\\r\\nhigh,med,med,med,acc\\r\\nhigh,med,med,high,acc\\r\\nhigh,med,big,low,unacc\\r\\nhigh,med,big,med,acc\\r\\nhigh,med,big,high,acc\\r\\nhigh,med,small,low,unacc\\r\\nhigh,med,small,med,unacc\\r\\nhigh,med,small,high,unacc\\r\\nhigh,med,med,low,unacc\\r\\nhigh,med,med,med,unacc\\r\\nhigh,med,med,high,unacc\\r\\nhigh,med,big,low,unacc\\r\\nhigh,med,big,med,unacc\\r\\nhigh,med,big,high,unacc\\r\\nhigh,med,small,low,unacc\\r\\nhigh,med,small,med,unacc\\r\\nhigh,med,small,high,acc\\r\\nhigh,med,med,low,unacc\\r\\nhigh,med,med,med,acc\\r\\nhigh,med,med,high,acc\\r\\nhigh,med,big,low,unacc\\r\\nhigh,med,big,med,acc\\r\\nhigh,med,big,high,acc\\r\\nhigh,med,small,low,unacc\\r\\nhigh,med,small,med,unacc\\r\\nhigh,med,small,high,acc\\r\\nhigh,med,med,low,unacc\\r\\nhigh,med,med,med,acc\\r\\nhigh,med,med,high,acc\\r\\nhigh,med,big,low,unacc\\r\\nhigh,med,big,med,acc\\r\\nhigh,med,big,high,acc\\r\\nhigh,med,small,low,unacc\\r\\nhigh,med,small,med,unacc\\r\\nhigh,med,small,high,unacc\\r\\nhigh,med,med,low,unacc\\r\\nhigh,med,med,med,unacc\\r\\nhigh,med,med,high,unacc\\r\\nhigh,med,big,low,unacc\\r\\nhigh,med,big,med,unacc\\r\\nhigh,med,big,high,unacc\\r\\nhigh,med,small,low,unacc\\r\\nhigh,med,small,med,unacc\\r\\nhigh,med,small,high,acc\\r\\nhigh,med,med,low,unacc\\r\\nhigh,med,med,med,acc\\r\\nhigh,med,med,high,acc\\r\\nhigh,med,big,low,unacc\\r\\nhigh,med,big,med,acc\\r\\nhigh,med,big,high,acc\\r\\nhigh,med,small,low,unacc\\r\\nhigh,med,small,med,unacc\\r\\nhigh,med,small,high,acc\\r\\nhigh,med,med,low,unacc\\r\\nhigh,med,med,med,acc\\r\\nhigh,med,med,high,acc\\r\\nhigh,med,big,low,unacc\\r\\nhigh,med,big,med,acc\\r\\nhigh,med,big,high,acc\\r\\nhigh,low,small,low,unacc\\r\\nhigh,low,small,med,unacc\\r\\nhigh,low,small,high,unacc\\r\\nhigh,low,med,low,unacc\\r\\nhigh,low,med,med,unacc\\r\\nhigh,low,med,high,unacc\\r\\nhigh,low,big,low,unacc\\r\\nhigh,low,big,med,unacc\\r\\nhigh,low,big,high,unacc\\r\\nhigh,low,small,low,unacc\\r\\nhigh,low,small,med,unacc\\r\\nhigh,low,small,high,acc\\r\\nhigh,low,med,low,unacc\\r\\nhigh,low,med,med,unacc\\r\\nhigh,low,med,high,acc\\r\\nhigh,low,big,low,unacc\\r\\nhigh,low,big,med,acc\\r\\nhigh,low,big,high,acc\\r\\nhigh,low,small,low,unacc\\r\\nhigh,low,small,med,unacc\\r\\nhigh,low,small,high,unacc\\r\\nhigh,low,med,low,unacc\\r\\nhigh,low,med,med,unacc\\r\\nhigh,low,med,high,acc\\r\\nhigh,low,big,low,unacc\\r\\nhigh,low,big,med,acc\\r\\nhigh,low,big,high,acc\\r\\nhigh,low,small,low,unacc\\r\\nhigh,low,small,med,unacc\\r\\nhigh,low,small,high,unacc\\r\\nhigh,low,med,low,unacc\\r\\nhigh,low,med,med,unacc\\r\\nhigh,low,med,high,unacc\\r\\nhigh,low,big,low,unacc\\r\\nhigh,low,big,med,unacc\\r\\nhigh,low,big,high,unacc\\r\\nhigh,low,small,low,unacc\\r\\nhigh,low,small,med,unacc\\r\\nhigh,low,small,high,acc\\r\\nhigh,low,med,low,unacc\\r\\nhigh,low,med,med,unacc\\r\\nhigh,low,med,high,acc\\r\\nhigh,low,big,low,unacc\\r\\nhigh,low,big,med,acc\\r\\nhigh,low,big,high,acc\\r\\nhigh,low,small,low,unacc\\r\\nhigh,low,small,med,unacc\\r\\nhigh,low,small,high,acc\\r\\nhigh,low,med,low,unacc\\r\\nhigh,low,med,med,acc\\r\\nhigh,low,med,high,acc\\r\\nhigh,low,big,low,unacc\\r\\nhigh,low,big,med,acc\\r\\nhigh,low,big,high,acc\\r\\nhigh,low,small,low,unacc\\r\\nhigh,low,small,med,unacc\\r\\nhigh,low,small,high,unacc\\r\\nhigh,low,med,low,unacc\\r\\nhigh,low,med,med,unacc\\r\\nhigh,low,med,high,unacc\\r\\nhigh,low,big,low,unacc\\r\\nhigh,low,big,med,unacc\\r\\nhigh,low,big,high,unacc\\r\\nhigh,low,small,low,unacc\\r\\nhigh,low,small,med,unacc\\r\\nhigh,low,small,high,acc\\r\\nhigh,low,med,low,unacc\\r\\nhigh,low,med,med,acc\\r\\nhigh,low,med,high,acc\\r\\nhigh,low,big,low,unacc\\r\\nhigh,low,big,med,acc\\r\\nhigh,low,big,high,acc\\r\\nhigh,low,small,low,unacc\\r\\nhigh,low,small,med,unacc\\r\\nhigh,low,small,high,acc\\r\\nhigh,low,med,low,unacc\\r\\nhigh,low,med,med,acc\\r\\nhigh,low,med,high,acc\\r\\nhigh,low,big,low,unacc\\r\\nhigh,low,big,med,acc\\r\\nhigh,low,big,high,acc\\r\\nhigh,low,small,low,unacc\\r\\nhigh,low,small,med,unacc\\r\\nhigh,low,small,high,unacc\\r\\nhigh,low,med,low,unacc\\r\\nhigh,low,med,med,unacc\\r\\nhigh,low,med,high,unacc\\r\\nhigh,low,big,low,unacc\\r\\nhigh,low,big,med,unacc\\r\\nhigh,low,big,high,unacc\\r\\nhigh,low,small,low,unacc\\r\\nhigh,low,small,med,unacc\\r\\nhigh,low,small,high,acc\\r\\nhigh,low,med,low,unacc\\r\\nhigh,low,med,med,acc\\r\\nhigh,low,med,high,acc\\r\\nhigh,low,big,low,unacc\\r\\nhigh,low,big,med,acc\\r\\nhigh,low,big,high,acc\\r\\nhigh,low,small,low,unacc\\r\\nhigh,low,small,med,unacc\\r\\nhigh,low,small,high,acc\\r\\nhigh,low,med,low,unacc\\r\\nhigh,low,med,med,acc\\r\\nhigh,low,med,high,acc\\r\\nhigh,low,big,low,unacc\\r\\nhigh,low,big,med,acc\\r\\nhigh,low,big,high,acc\\r\\nmed,vhigh,small,low,unacc\\r\\nmed,vhigh,small,med,unacc\\r\\nmed,vhigh,small,high,unacc\\r\\nmed,vhigh,med,low,unacc\\r\\nmed,vhigh,med,med,unacc\\r\\nmed,vhigh,med,high,unacc\\r\\nmed,vhigh,big,low,unacc\\r\\nmed,vhigh,big,med,unacc\\r\\nmed,vhigh,big,high,unacc\\r\\nmed,vhigh,small,low,unacc\\r\\nmed,vhigh,small,med,unacc\\r\\nmed,vhigh,small,high,acc\\r\\nmed,vhigh,med,low,unacc\\r\\nmed,vhigh,med,med,unacc\\r\\nmed,vhigh,med,high,acc\\r\\nmed,vhigh,big,low,unacc\\r\\nmed,vhigh,big,med,acc\\r\\nmed,vhigh,big,high,acc\\r\\nmed,vhigh,small,low,unacc\\r\\nmed,vhigh,small,med,unacc\\r\\nmed,vhigh,small,high,unacc\\r\\nmed,vhigh,med,low,unacc\\r\\nmed,vhigh,med,med,unacc\\r\\nmed,vhigh,med,high,acc\\r\\nmed,vhigh,big,low,unacc\\r\\nmed,vhigh,big,med,acc\\r\\nmed,vhigh,big,high,acc\\r\\nmed,vhigh,small,low,unacc\\r\\nmed,vhigh,small,med,unacc\\r\\nmed,vhigh,small,high,unacc\\r\\nmed,vhigh,med,low,unacc\\r\\nmed,vhigh,med,med,unacc\\r\\nmed,vhigh,med,high,unacc\\r\\nmed,vhigh,big,low,unacc\\r\\nmed,vhigh,big,med,unacc\\r\\nmed,vhigh,big,high,unacc\\r\\nmed,vhigh,small,low,unacc\\r\\nmed,vhigh,small,med,unacc\\r\\nmed,vhigh,small,high,acc\\r\\nmed,vhigh,med,low,unacc\\r\\nmed,vhigh,med,med,unacc\\r\\nmed,vhigh,med,high,acc\\r\\nmed,vhigh,big,low,unacc\\r\\nmed,vhigh,big,med,acc\\r\\nmed,vhigh,big,high,acc\\r\\nmed,vhigh,small,low,unacc\\r\\nmed,vhigh,small,med,unacc\\r\\nmed,vhigh,small,high,acc\\r\\nmed,vhigh,med,low,unacc\\r\\nmed,vhigh,med,med,acc\\r\\nmed,vhigh,med,high,acc\\r\\nmed,vhigh,big,low,unacc\\r\\nmed,vhigh,big,med,acc\\r\\nmed,vhigh,big,high,acc\\r\\nmed,vhigh,small,low,unacc\\r\\nmed,vhigh,small,med,unacc\\r\\nmed,vhigh,small,high,unacc\\r\\nmed,vhigh,med,low,unacc\\r\\nmed,vhigh,med,med,unacc\\r\\nmed,vhigh,med,high,unacc\\r\\nmed,vhigh,big,low,unacc\\r\\nmed,vhigh,big,med,unacc\\r\\nmed,vhigh,big,high,unacc\\r\\nmed,vhigh,small,low,unacc\\r\\nmed,vhigh,small,med,unacc\\r\\nmed,vhigh,small,high,acc\\r\\nmed,vhigh,med,low,unacc\\r\\nmed,vhigh,med,med,acc\\r\\nmed,vhigh,med,high,acc\\r\\nmed,vhigh,big,low,unacc\\r\\nmed,vhigh,big,med,acc\\r\\nmed,vhigh,big,high,acc\\r\\nmed,vhigh,small,low,unacc\\r\\nmed,vhigh,small,med,unacc\\r\\nmed,vhigh,small,high,acc\\r\\nmed,vhigh,med,low,unacc\\r\\nmed,vhigh,med,med,acc\\r\\nmed,vhigh,med,high,acc\\r\\nmed,vhigh,big,low,unacc\\r\\nmed,vhigh,big,med,acc\\r\\nmed,vhigh,big,high,acc\\r\\nmed,vhigh,small,low,unacc\\r\\nmed,vhigh,small,med,unacc\\r\\nmed,vhigh,small,high,unacc\\r\\nmed,vhigh,med,low,unacc\\r\\nmed,vhigh,med,med,unacc\\r\\nmed,vhigh,med,high,unacc\\r\\nmed,vhigh,big,low,unacc\\r\\nmed,vhigh,big,med,unacc\\r\\nmed,vhigh,big,high,unacc\\r\\nmed,vhigh,small,low,unacc\\r\\nmed,vhigh,small,med,unacc\\r\\nmed,vhigh,small,high,acc\\r\\nmed,vhigh,med,low,unacc\\r\\nmed,vhigh,med,med,acc\\r\\nmed,vhigh,med,high,acc\\r\\nmed,vhigh,big,low,unacc\\r\\nmed,vhigh,big,med,acc\\r\\nmed,vhigh,big,high,acc\\r\\nmed,vhigh,small,low,unacc\\r\\nmed,vhigh,small,med,unacc\\r\\nmed,vhigh,small,high,acc\\r\\nmed,vhigh,med,low,unacc\\r\\nmed,vhigh,med,med,acc\\r\\nmed,vhigh,med,high,acc\\r\\nmed,vhigh,big,low,unacc\\r\\nmed,vhigh,big,med,acc\\r\\nmed,vhigh,big,high,acc\\r\\nmed,high,small,low,unacc\\r\\nmed,high,small,med,unacc\\r\\nmed,high,small,high,unacc\\r\\nmed,high,med,low,unacc\\r\\nmed,high,med,med,unacc\\r\\nmed,high,med,high,unacc\\r\\nmed,high,big,low,unacc\\r\\nmed,high,big,med,unacc\\r\\nmed,high,big,high,unacc\\r\\nmed,high,small,low,unacc\\r\\nmed,high,small,med,unacc\\r\\nmed,high,small,high,acc\\r\\nmed,high,med,low,unacc\\r\\nmed,high,med,med,unacc\\r\\nmed,high,med,high,acc\\r\\nmed,high,big,low,unacc\\r\\nmed,high,big,med,acc\\r\\nmed,high,big,high,acc\\r\\nmed,high,small,low,unacc\\r\\nmed,high,small,med,unacc\\r\\nmed,high,small,high,unacc\\r\\nmed,high,med,low,unacc\\r\\nmed,high,med,med,unacc\\r\\nmed,high,med,high,acc\\r\\nmed,high,big,low,unacc\\r\\nmed,high,big,med,acc\\r\\nmed,high,big,high,acc\\r\\nmed,high,small,low,unacc\\r\\nmed,high,small,med,unacc\\r\\nmed,high,small,high,unacc\\r\\nmed,high,med,low,unacc\\r\\nmed,high,med,med,unacc\\r\\nmed,high,med,high,unacc\\r\\nmed,high,big,low,unacc\\r\\nmed,high,big,med,unacc\\r\\nmed,high,big,high,unacc\\r\\nmed,high,small,low,unacc\\r\\nmed,high,small,med,unacc\\r\\nmed,high,small,high,acc\\r\\nmed,high,med,low,unacc\\r\\nmed,high,med,med,unacc\\r\\nmed,high,med,high,acc\\r\\nmed,high,big,low,unacc\\r\\nmed,high,big,med,acc\\r\\nmed,high,big,high,acc\\r\\nmed,high,small,low,unacc\\r\\nmed,high,small,med,unacc\\r\\nmed,high,small,high,acc\\r\\nmed,high,med,low,unacc\\r\\nmed,high,med,med,acc\\r\\nmed,high,med,high,acc\\r\\nmed,high,big,low,unacc\\r\\nmed,high,big,med,acc\\r\\nmed,high,big,high,acc\\r\\nmed,high,small,low,unacc\\r\\nmed,high,small,med,unacc\\r\\nmed,high,small,high,unacc\\r\\nmed,high,med,low,unacc\\r\\nmed,high,med,med,unacc\\r\\nmed,high,med,high,unacc\\r\\nmed,high,big,low,unacc\\r\\nmed,high,big,med,unacc\\r\\nmed,high,big,high,unacc\\r\\nmed,high,small,low,unacc\\r\\nmed,high,small,med,unacc\\r\\nmed,high,small,high,acc\\r\\nmed,high,med,low,unacc\\r\\nmed,high,med,med,acc\\r\\nmed,high,med,high,acc\\r\\nmed,high,big,low,unacc\\r\\nmed,high,big,med,acc\\r\\nmed,high,big,high,acc\\r\\nmed,high,small,low,unacc\\r\\nmed,high,small,med,unacc\\r\\nmed,high,small,high,acc\\r\\nmed,high,med,low,unacc\\r\\nmed,high,med,med,acc\\r\\nmed,high,med,high,acc\\r\\nmed,high,big,low,unacc\\r\\nmed,high,big,med,acc\\r\\nmed,high,big,high,acc\\r\\nmed,high,small,low,unacc\\r\\nmed,high,small,med,unacc\\r\\nmed,high,small,high,unacc\\r\\nmed,high,med,low,unacc\\r\\nmed,high,med,med,unacc\\r\\nmed,high,med,high,unacc\\r\\nmed,high,big,low,unacc\\r\\nmed,high,big,med,unacc\\r\\nmed,high,big,high,unacc\\r\\nmed,high,small,low,unacc\\r\\nmed,high,small,med,unacc\\r\\nmed,high,small,high,acc\\r\\nmed,high,med,low,unacc\\r\\nmed,high,med,med,acc\\r\\nmed,high,med,high,acc\\r\\nmed,high,big,low,unacc\\r\\nmed,high,big,med,acc\\r\\nmed,high,big,high,acc\\r\\nmed,high,small,low,unacc\\r\\nmed,high,small,med,unacc\\r\\nmed,high,small,high,acc\\r\\nmed,high,med,low,unacc\\r\\nmed,high,med,med,acc\\r\\nmed,high,med,high,acc\\r\\nmed,high,big,low,unacc\\r\\nmed,high,big,med,acc\\r\\nmed,high,big,high,acc\\r\\nmed,med,small,low,unacc\\r\\nmed,med,small,med,unacc\\r\\nmed,med,small,high,unacc\\r\\nmed,med,med,low,unacc\\r\\nmed,med,med,med,unacc\\r\\nmed,med,med,high,unacc\\r\\nmed,med,big,low,unacc\\r\\nmed,med,big,med,unacc\\r\\nmed,med,big,high,unacc\\r\\nmed,med,small,low,unacc\\r\\nmed,med,small,med,acc\\r\\nmed,med,small,high,acc\\r\\nmed,med,med,low,unacc\\r\\nmed,med,med,med,acc\\r\\nmed,med,med,high,acc\\r\\nmed,med,big,low,unacc\\r\\nmed,med,big,med,acc\\r\\nmed,med,big,high,vgood\\r\\nmed,med,small,low,unacc\\r\\nmed,med,small,med,unacc\\r\\nmed,med,small,high,unacc\\r\\nmed,med,med,low,unacc\\r\\nmed,med,med,med,acc\\r\\nmed,med,med,high,acc\\r\\nmed,med,big,low,unacc\\r\\nmed,med,big,med,acc\\r\\nmed,med,big,high,vgood\\r\\nmed,med,small,low,unacc\\r\\nmed,med,small,med,unacc\\r\\nmed,med,small,high,unacc\\r\\nmed,med,med,low,unacc\\r\\nmed,med,med,med,unacc\\r\\nmed,med,med,high,unacc\\r\\nmed,med,big,low,unacc\\r\\nmed,med,big,med,unacc\\r\\nmed,med,big,high,unacc\\r\\nmed,med,small,low,unacc\\r\\nmed,med,small,med,acc\\r\\nmed,med,small,high,acc\\r\\nmed,med,med,low,unacc\\r\\nmed,med,med,med,acc\\r\\nmed,med,med,high,acc\\r\\nmed,med,big,low,unacc\\r\\nmed,med,big,med,acc\\r\\nmed,med,big,high,vgood\\r\\nmed,med,small,low,unacc\\r\\nmed,med,small,med,acc\\r\\nmed,med,small,high,acc\\r\\nmed,med,med,low,unacc\\r\\nmed,med,med,med,acc\\r\\nmed,med,med,high,vgood\\r\\nmed,med,big,low,unacc\\r\\nmed,med,big,med,acc\\r\\nmed,med,big,high,vgood\\r\\nmed,med,small,low,unacc\\r\\nmed,med,small,med,unacc\\r\\nmed,med,small,high,unacc\\r\\nmed,med,med,low,unacc\\r\\nmed,med,med,med,unacc\\r\\nmed,med,med,high,unacc\\r\\nmed,med,big,low,unacc\\r\\nmed,med,big,med,unacc\\r\\nmed,med,big,high,unacc\\r\\nmed,med,small,low,unacc\\r\\nmed,med,small,med,acc\\r\\nmed,med,small,high,acc\\r\\nmed,med,med,low,unacc\\r\\nmed,med,med,med,acc\\r\\nmed,med,med,high,vgood\\r\\nmed,med,big,low,unacc\\r\\nmed,med,big,med,acc\\r\\nmed,med,big,high,vgood\\r\\nmed,med,small,low,unacc\\r\\nmed,med,small,med,acc\\r\\nmed,med,small,high,acc\\r\\nmed,med,med,low,unacc\\r\\nmed,med,med,med,acc\\r\\nmed,med,med,high,vgood\\r\\nmed,med,big,low,unacc\\r\\nmed,med,big,med,acc\\r\\nmed,med,big,high,vgood\\r\\nmed,med,small,low,unacc\\r\\nmed,med,small,med,unacc\\r\\nmed,med,small,high,unacc\\r\\nmed,med,med,low,unacc\\r\\nmed,med,med,med,unacc\\r\\nmed,med,med,high,unacc\\r\\nmed,med,big,low,unacc\\r\\nmed,med,big,med,unacc\\r\\nmed,med,big,high,unacc\\r\\nmed,med,small,low,unacc\\r\\nmed,med,small,med,acc\\r\\nmed,med,small,high,acc\\r\\nmed,med,med,low,unacc\\r\\nmed,med,med,med,acc\\r\\nmed,med,med,high,vgood\\r\\nmed,med,big,low,unacc\\r\\nmed,med,big,med,acc\\r\\nmed,med,big,high,vgood\\r\\nmed,med,small,low,unacc\\r\\nmed,med,small,med,acc\\r\\nmed,med,small,high,acc\\r\\nmed,med,med,low,unacc\\r\\nmed,med,med,med,acc\\r\\nmed,med,med,high,vgood\\r\\nmed,med,big,low,unacc\\r\\nmed,med,big,med,acc\\r\\nmed,med,big,high,vgood\\r\\nmed,low,small,low,unacc\\r\\nmed,low,small,med,unacc\\r\\nmed,low,small,high,unacc\\r\\nmed,low,med,low,unacc\\r\\nmed,low,med,med,unacc\\r\\nmed,low,med,high,unacc\\r\\nmed,low,big,low,unacc\\r\\nmed,low,big,med,unacc\\r\\nmed,low,big,high,unacc\\r\\nmed,low,small,low,unacc\\r\\nmed,low,small,med,acc\\r\\nmed,low,small,high,good\\r\\nmed,low,med,low,unacc\\r\\nmed,low,med,med,acc\\r\\nmed,low,med,high,good\\r\\nmed,low,big,low,unacc\\r\\nmed,low,big,med,good\\r\\nmed,low,big,high,vgood\\r\\nmed,low,small,low,unacc\\r\\nmed,low,small,med,unacc\\r\\nmed,low,small,high,unacc\\r\\nmed,low,med,low,unacc\\r\\nmed,low,med,med,acc\\r\\nmed,low,med,high,good\\r\\nmed,low,big,low,unacc\\r\\nmed,low,big,med,good\\r\\nmed,low,big,high,vgood\\r\\nmed,low,small,low,unacc\\r\\nmed,low,small,med,unacc\\r\\nmed,low,small,high,unacc\\r\\nmed,low,med,low,unacc\\r\\nmed,low,med,med,unacc\\r\\nmed,low,med,high,unacc\\r\\nmed,low,big,low,unacc\\r\\nmed,low,big,med,unacc\\r\\nmed,low,big,high,unacc\\r\\nmed,low,small,low,unacc\\r\\nmed,low,small,med,acc\\r\\nmed,low,small,high,good\\r\\nmed,low,med,low,unacc\\r\\nmed,low,med,med,acc\\r\\nmed,low,med,high,good\\r\\nmed,low,big,low,unacc\\r\\nmed,low,big,med,good\\r\\nmed,low,big,high,vgood\\r\\nmed,low,small,low,unacc\\r\\nmed,low,small,med,acc\\r\\nmed,low,small,high,good\\r\\nmed,low,med,low,unacc\\r\\nmed,low,med,med,good\\r\\nmed,low,med,high,vgood\\r\\nmed,low,big,low,unacc\\r\\nmed,low,big,med,good\\r\\nmed,low,big,high,vgood\\r\\nmed,low,small,low,unacc\\r\\nmed,low,small,med,unacc\\r\\nmed,low,small,high,unacc\\r\\nmed,low,med,low,unacc\\r\\nmed,low,med,med,unacc\\r\\nmed,low,med,high,unacc\\r\\nmed,low,big,low,unacc\\r\\nmed,low,big,med,unacc\\r\\nmed,low,big,high,unacc\\r\\nmed,low,small,low,unacc\\r\\nmed,low,small,med,acc\\r\\nmed,low,small,high,good\\r\\nmed,low,med,low,unacc\\r\\nmed,low,med,med,good\\r\\nmed,low,med,high,vgood\\r\\nmed,low,big,low,unacc\\r\\nmed,low,big,med,good\\r\\nmed,low,big,high,vgood\\r\\nmed,low,small,low,unacc\\r\\nmed,low,small,med,acc\\r\\nmed,low,small,high,good\\r\\nmed,low,med,low,unacc\\r\\nmed,low,med,med,good\\r\\nmed,low,med,high,vgood\\r\\nmed,low,big,low,unacc\\r\\nmed,low,big,med,good\\r\\nmed,low,big,high,vgood\\r\\nmed,low,small,low,unacc\\r\\nmed,low,small,med,unacc\\r\\nmed,low,small,high,unacc\\r\\nmed,low,med,low,unacc\\r\\nmed,low,med,med,unacc\\r\\nmed,low,med,high,unacc\\r\\nmed,low,big,low,unacc\\r\\nmed,low,big,med,unacc\\r\\nmed,low,big,high,unacc\\r\\nmed,low,small,low,unacc\\r\\nmed,low,small,med,acc\\r\\nmed,low,small,high,good\\r\\nmed,low,med,low,unacc\\r\\nmed,low,med,med,good\\r\\nmed,low,med,high,vgood\\r\\nmed,low,big,low,unacc\\r\\nmed,low,big,med,good\\r\\nmed,low,big,high,vgood\\r\\nmed,low,small,low,unacc\\r\\nmed,low,small,med,acc\\r\\nmed,low,small,high,good\\r\\nmed,low,med,low,unacc\\r\\nmed,low,med,med,good\\r\\nmed,low,med,high,vgood\\r\\nmed,low,big,low,unacc\\r\\nmed,low,big,med,good\\r\\nmed,low,big,high,vgood\\r\\nlow,vhigh,small,low,unacc\\r\\nlow,vhigh,small,med,unacc\\r\\nlow,vhigh,small,high,unacc\\r\\nlow,vhigh,med,low,unacc\\r\\nlow,vhigh,med,med,unacc\\r\\nlow,vhigh,med,high,unacc\\r\\nlow,vhigh,big,low,unacc\\r\\nlow,vhigh,big,med,unacc\\r\\nlow,vhigh,big,high,unacc\\r\\nlow,vhigh,small,low,unacc\\r\\nlow,vhigh,small,med,unacc\\r\\nlow,vhigh,small,high,acc\\r\\nlow,vhigh,med,low,unacc\\r\\nlow,vhigh,med,med,unacc\\r\\nlow,vhigh,med,high,acc\\r\\nlow,vhigh,big,low,unacc\\r\\nlow,vhigh,big,med,acc\\r\\nlow,vhigh,big,high,acc\\r\\nlow,vhigh,small,low,unacc\\r\\nlow,vhigh,small,med,unacc\\r\\nlow,vhigh,small,high,unacc\\r\\nlow,vhigh,med,low,unacc\\r\\nlow,vhigh,med,med,unacc\\r\\nlow,vhigh,med,high,acc\\r\\nlow,vhigh,big,low,unacc\\r\\nlow,vhigh,big,med,acc\\r\\nlow,vhigh,big,high,acc\\r\\nlow,vhigh,small,low,unacc\\r\\nlow,vhigh,small,med,unacc\\r\\nlow,vhigh,small,high,unacc\\r\\nlow,vhigh,med,low,unacc\\r\\nlow,vhigh,med,med,unacc\\r\\nlow,vhigh,med,high,unacc\\r\\nlow,vhigh,big,low,unacc\\r\\nlow,vhigh,big,med,unacc\\r\\nlow,vhigh,big,high,unacc\\r\\nlow,vhigh,small,low,unacc\\r\\nlow,vhigh,small,med,unacc\\r\\nlow,vhigh,small,high,acc\\r\\nlow,vhigh,med,low,unacc\\r\\nlow,vhigh,med,med,unacc\\r\\nlow,vhigh,med,high,acc\\r\\nlow,vhigh,big,low,unacc\\r\\nlow,vhigh,big,med,acc\\r\\nlow,vhigh,big,high,acc\\r\\nlow,vhigh,small,low,unacc\\r\\nlow,vhigh,small,med,unacc\\r\\nlow,vhigh,small,high,acc\\r\\nlow,vhigh,med,low,unacc\\r\\nlow,vhigh,med,med,acc\\r\\nlow,vhigh,med,high,acc\\r\\nlow,vhigh,big,low,unacc\\r\\nlow,vhigh,big,med,acc\\r\\nlow,vhigh,big,high,acc\\r\\nlow,vhigh,small,low,unacc\\r\\nlow,vhigh,small,med,unacc\\r\\nlow,vhigh,small,high,unacc\\r\\nlow,vhigh,med,low,unacc\\r\\nlow,vhigh,med,med,unacc\\r\\nlow,vhigh,med,high,unacc\\r\\nlow,vhigh,big,low,unacc\\r\\nlow,vhigh,big,med,unacc\\r\\nlow,vhigh,big,high,unacc\\r\\nlow,vhigh,small,low,unacc\\r\\nlow,vhigh,small,med,unacc\\r\\nlow,vhigh,small,high,acc\\r\\nlow,vhigh,med,low,unacc\\r\\nlow,vhigh,med,med,acc\\r\\nlow,vhigh,med,high,acc\\r\\nlow,vhigh,big,low,unacc\\r\\nlow,vhigh,big,med,acc\\r\\nlow,vhigh,big,high,acc\\r\\nlow,vhigh,small,low,unacc\\r\\nlow,vhigh,small,med,unacc\\r\\nlow,vhigh,small,high,acc\\r\\nlow,vhigh,med,low,unacc\\r\\nlow,vhigh,med,med,acc\\r\\nlow,vhigh,med,high,acc\\r\\nlow,vhigh,big,low,unacc\\r\\nlow,vhigh,big,med,acc\\r\\nlow,vhigh,big,high,acc\\r\\nlow,vhigh,small,low,unacc\\r\\nlow,vhigh,small,med,unacc\\r\\nlow,vhigh,small,high,unacc\\r\\nlow,vhigh,med,low,unacc\\r\\nlow,vhigh,med,med,unacc\\r\\nlow,vhigh,med,high,unacc\\r\\nlow,vhigh,big,low,unacc\\r\\nlow,vhigh,big,med,unacc\\r\\nlow,vhigh,big,high,unacc\\r\\nlow,vhigh,small,low,unacc\\r\\nlow,vhigh,small,med,unacc\\r\\nlow,vhigh,small,high,acc\\r\\nlow,vhigh,med,low,unacc\\r\\nlow,vhigh,med,med,acc\\r\\nlow,vhigh,med,high,acc\\r\\nlow,vhigh,big,low,unacc\\r\\nlow,vhigh,big,med,acc\\r\\nlow,vhigh,big,high,acc\\r\\nlow,vhigh,small,low,unacc\\r\\nlow,vhigh,small,med,unacc\\r\\nlow,vhigh,small,high,acc\\r\\nlow,vhigh,med,low,unacc\\r\\nlow,vhigh,med,med,acc\\r\\nlow,vhigh,med,high,acc\\r\\nlow,vhigh,big,low,unacc\\r\\nlow,vhigh,big,med,acc\\r\\nlow,vhigh,big,high,acc\\r\\nlow,high,small,low,unacc\\r\\nlow,high,small,med,unacc\\r\\nlow,high,small,high,unacc\\r\\nlow,high,med,low,unacc\\r\\nlow,high,med,med,unacc\\r\\nlow,high,med,high,unacc\\r\\nlow,high,big,low,unacc\\r\\nlow,high,big,med,unacc\\r\\nlow,high,big,high,unacc\\r\\nlow,high,small,low,unacc\\r\\nlow,high,small,med,acc\\r\\nlow,high,small,high,acc\\r\\nlow,high,med,low,unacc\\r\\nlow,high,med,med,acc\\r\\nlow,high,med,high,acc\\r\\nlow,high,big,low,unacc\\r\\nlow,high,big,med,acc\\r\\nlow,high,big,high,vgood\\r\\nlow,high,small,low,unacc\\r\\nlow,high,small,med,unacc\\r\\nlow,high,small,high,unacc\\r\\nlow,high,med,low,unacc\\r\\nlow,high,med,med,acc\\r\\nlow,high,med,high,acc\\r\\nlow,high,big,low,unacc\\r\\nlow,high,big,med,acc\\r\\nlow,high,big,high,vgood\\r\\nlow,high,small,low,unacc\\r\\nlow,high,small,med,unacc\\r\\nlow,high,small,high,unacc\\r\\nlow,high,med,low,unacc\\r\\nlow,high,med,med,unacc\\r\\nlow,high,med,high,unacc\\r\\nlow,high,big,low,unacc\\r\\nlow,high,big,med,unacc\\r\\nlow,high,big,high,unacc\\r\\nlow,high,small,low,unacc\\r\\nlow,high,small,med,acc\\r\\nlow,high,small,high,acc\\r\\nlow,high,med,low,unacc\\r\\nlow,high,med,med,acc\\r\\nlow,high,med,high,acc\\r\\nlow,high,big,low,unacc\\r\\nlow,high,big,med,acc\\r\\nlow,high,big,high,vgood\\r\\nlow,high,small,low,unacc\\r\\nlow,high,small,med,acc\\r\\nlow,high,small,high,acc\\r\\nlow,high,med,low,unacc\\r\\nlow,high,med,med,acc\\r\\nlow,high,med,high,vgood\\r\\nlow,high,big,low,unacc\\r\\nlow,high,big,med,acc\\r\\nlow,high,big,high,vgood\\r\\nlow,high,small,low,unacc\\r\\nlow,high,small,med,unacc\\r\\nlow,high,small,high,unacc\\r\\nlow,high,med,low,unacc\\r\\nlow,high,med,med,unacc\\r\\nlow,high,med,high,unacc\\r\\nlow,high,big,low,unacc\\r\\nlow,high,big,med,unacc\\r\\nlow,high,big,high,unacc\\r\\nlow,high,small,low,unacc\\r\\nlow,high,small,med,acc\\r\\nlow,high,small,high,acc\\r\\nlow,high,med,low,unacc\\r\\nlow,high,med,med,acc\\r\\nlow,high,med,high,vgood\\r\\nlow,high,big,low,unacc\\r\\nlow,high,big,med,acc\\r\\nlow,high,big,high,vgood\\r\\nlow,high,small,low,unacc\\r\\nlow,high,small,med,acc\\r\\nlow,high,small,high,acc\\r\\nlow,high,med,low,unacc\\r\\nlow,high,med,med,acc\\r\\nlow,high,med,high,vgood\\r\\nlow,high,big,low,unacc\\r\\nlow,high,big,med,acc\\r\\nlow,high,big,high,vgood\\r\\nlow,high,small,low,unacc\\r\\nlow,high,small,med,unacc\\r\\nlow,high,small,high,unacc\\r\\nlow,high,med,low,unacc\\r\\nlow,high,med,med,unacc\\r\\nlow,high,med,high,unacc\\r\\nlow,high,big,low,unacc\\r\\nlow,high,big,med,unacc\\r\\nlow,high,big,high,unacc\\r\\nlow,high,small,low,unacc\\r\\nlow,high,small,med,acc\\r\\nlow,high,small,high,acc\\r\\nlow,high,med,low,unacc\\r\\nlow,high,med,med,acc\\r\\nlow,high,med,high,vgood\\r\\nlow,high,big,low,unacc\\r\\nlow,high,big,med,acc\\r\\nlow,high,big,high,vgood\\r\\nlow,high,small,low,unacc\\r\\nlow,high,small,med,acc\\r\\nlow,high,small,high,acc\\r\\nlow,high,med,low,unacc\\r\\nlow,high,med,med,acc\\r\\nlow,high,med,high,vgood\\r\\nlow,high,big,low,unacc\\r\\nlow,high,big,med,acc\\r\\nlow,high,big,high,vgood\\r\\nlow,med,small,low,unacc\\r\\nlow,med,small,med,unacc\\r\\nlow,med,small,high,unacc\\r\\nlow,med,med,low,unacc\\r\\nlow,med,med,med,unacc\\r\\nlow,med,med,high,unacc\\r\\nlow,med,big,low,unacc\\r\\nlow,med,big,med,unacc\\r\\nlow,med,big,high,unacc\\r\\nlow,med,small,low,unacc\\r\\nlow,med,small,med,acc\\r\\nlow,med,small,high,good\\r\\nlow,med,med,low,unacc\\r\\nlow,med,med,med,acc\\r\\nlow,med,med,high,good\\r\\nlow,med,big,low,unacc\\r\\nlow,med,big,med,good\\r\\nlow,med,big,high,vgood\\r\\nlow,med,small,low,unacc\\r\\nlow,med,small,med,unacc\\r\\nlow,med,small,high,unacc\\r\\nlow,med,med,low,unacc\\r\\nlow,med,med,med,acc\\r\\nlow,med,med,high,good\\r\\nlow,med,big,low,unacc\\r\\nlow,med,big,med,good\\r\\nlow,med,big,high,vgood\\r\\nlow,med,small,low,unacc\\r\\nlow,med,small,med,unacc\\r\\nlow,med,small,high,unacc\\r\\nlow,med,med,low,unacc\\r\\nlow,med,med,med,unacc\\r\\nlow,med,med,high,unacc\\r\\nlow,med,big,low,unacc\\r\\nlow,med,big,med,unacc\\r\\nlow,med,big,high,unacc\\r\\nlow,med,small,low,unacc\\r\\nlow,med,small,med,acc\\r\\nlow,med,small,high,good\\r\\nlow,med,med,low,unacc\\r\\nlow,med,med,med,acc\\r\\nlow,med,med,high,good\\r\\nlow,med,big,low,unacc\\r\\nlow,med,big,med,good\\r\\nlow,med,big,high,vgood\\r\\nlow,med,small,low,unacc\\r\\nlow,med,small,med,acc\\r\\nlow,med,small,high,good\\r\\nlow,med,med,low,unacc\\r\\nlow,med,med,med,good\\r\\nlow,med,med,high,vgood\\r\\nlow,med,big,low,unacc\\r\\nlow,med,big,med,good\\r\\nlow,med,big,high,vgood\\r\\nlow,med,small,low,unacc\\r\\nlow,med,small,med,unacc\\r\\nlow,med,small,high,unacc\\r\\nlow,med,med,low,unacc\\r\\nlow,med,med,med,unacc\\r\\nlow,med,med,high,unacc\\r\\nlow,med,big,low,unacc\\r\\nlow,med,big,med,unacc\\r\\nlow,med,big,high,unacc\\r\\nlow,med,small,low,unacc\\r\\nlow,med,small,med,acc\\r\\nlow,med,small,high,good\\r\\nlow,med,med,low,unacc\\r\\nlow,med,med,med,good\\r\\nlow,med,med,high,vgood\\r\\nlow,med,big,low,unacc\\r\\nlow,med,big,med,good\\r\\nlow,med,big,high,vgood\\r\\nlow,med,small,low,unacc\\r\\nlow,med,small,med,acc\\r\\nlow,med,small,high,good\\r\\nlow,med,med,low,unacc\\r\\nlow,med,med,med,good\\r\\nlow,med,med,high,vgood\\r\\nlow,med,big,low,unacc\\r\\nlow,med,big,med,good\\r\\nlow,med,big,high,vgood\\r\\nlow,med,small,low,unacc\\r\\nlow,med,small,med,unacc\\r\\nlow,med,small,high,unacc\\r\\nlow,med,med,low,unacc\\r\\nlow,med,med,med,unacc\\r\\nlow,med,med,high,unacc\\r\\nlow,med,big,low,unacc\\r\\nlow,med,big,med,unacc\\r\\nlow,med,big,high,unacc\\r\\nlow,med,small,low,unacc\\r\\nlow,med,small,med,acc\\r\\nlow,med,small,high,good\\r\\nlow,med,med,low,unacc\\r\\nlow,med,med,med,good\\r\\nlow,med,med,high,vgood\\r\\nlow,med,big,low,unacc\\r\\nlow,med,big,med,good\\r\\nlow,med,big,high,vgood\\r\\nlow,med,small,low,unacc\\r\\nlow,med,small,med,acc\\r\\nlow,med,small,high,good\\r\\nlow,med,med,low,unacc\\r\\nlow,med,med,med,good\\r\\nlow,med,med,high,vgood\\r\\nlow,med,big,low,unacc\\r\\nlow,med,big,med,good\\r\\nlow,med,big,high,vgood\\r\\nlow,low,small,low,unacc\\r\\nlow,low,small,med,unacc\\r\\nlow,low,small,high,unacc\\r\\nlow,low,med,low,unacc\\r\\nlow,low,med,med,unacc\\r\\nlow,low,med,high,unacc\\r\\nlow,low,big,low,unacc\\r\\nlow,low,big,med,unacc\\r\\nlow,low,big,high,unacc\\r\\nlow,low,small,low,unacc\\r\\nlow,low,small,med,acc\\r\\nlow,low,small,high,good\\r\\nlow,low,med,low,unacc\\r\\nlow,low,med,med,acc\\r\\nlow,low,med,high,good\\r\\nlow,low,big,low,unacc\\r\\nlow,low,big,med,good\\r\\nlow,low,big,high,vgood\\r\\nlow,low,small,low,unacc\\r\\nlow,low,small,med,unacc\\r\\nlow,low,small,high,unacc\\r\\nlow,low,med,low,unacc\\r\\nlow,low,med,med,acc\\r\\nlow,low,med,high,good\\r\\nlow,low,big,low,unacc\\r\\nlow,low,big,med,good\\r\\nlow,low,big,high,vgood\\r\\nlow,low,small,low,unacc\\r\\nlow,low,small,med,unacc\\r\\nlow,low,small,high,unacc\\r\\nlow,low,med,low,unacc\\r\\nlow,low,med,med,unacc\\r\\nlow,low,med,high,unacc\\r\\nlow,low,big,low,unacc\\r\\nlow,low,big,med,unacc\\r\\nlow,low,big,high,unacc\\r\\nlow,low,small,low,unacc\\r\\nlow,low,small,med,acc\\r\\nlow,low,small,high,good\\r\\nlow,low,med,low,unacc\\r\\nlow,low,med,med,acc\\r\\nlow,low,med,high,good\\r\\nlow,low,big,low,unacc\\r\\nlow,low,big,med,good\\r\\nlow,low,big,high,vgood\\r\\nlow,low,small,low,unacc\\r\\nlow,low,small,med,acc\\r\\nlow,low,small,high,good\\r\\nlow,low,med,low,unacc\\r\\nlow,low,med,med,good\\r\\nlow,low,med,high,vgood\\r\\nlow,low,big,low,unacc\\r\\nlow,low,big,med,good\\r\\nlow,low,big,high,vgood\\r\\nlow,low,small,low,unacc\\r\\nlow,low,small,med,unacc\\r\\nlow,low,small,high,unacc\\r\\nlow,low,med,low,unacc\\r\\nlow,low,med,med,unacc\\r\\nlow,low,med,high,unacc\\r\\nlow,low,big,low,unacc\\r\\nlow,low,big,med,unacc\\r\\nlow,low,big,high,unacc\\r\\nlow,low,small,low,unacc\\r\\nlow,low,small,med,acc\\r\\nlow,low,small,high,good\\r\\nlow,low,med,low,unacc\\r\\nlow,low,med,med,good\\r\\nlow,low,med,high,vgood\\r\\nlow,low,big,low,unacc\\r\\nlow,low,big,med,good\\r\\nlow,low,big,high,vgood\\r\\nlow,low,small,low,unacc\\r\\nlow,low,small,med,acc\\r\\nlow,low,small,high,good\\r\\nlow,low,med,low,unacc\\r\\nlow,low,med,med,good\\r\\nlow,low,med,high,vgood\\r\\nlow,low,big,low,unacc\\r\\nlow,low,big,med,good\\r\\nlow,low,big,high,vgood\\r\\nlow,low,small,low,unacc\\r\\nlow,low,small,med,unacc\\r\\nlow,low,small,high,unacc\\r\\nlow,low,med,low,unacc\\r\\nlow,low,med,med,unacc\\r\\nlow,low,med,high,unacc\\r\\nlow,low,big,low,unacc\\r\\nlow,low,big,med,unacc\\r\\nlow,low,big,high,unacc\\r\\nlow,low,small,low,unacc\\r\\nlow,low,small,med,acc\\r\\nlow,low,small,high,good\\r\\nlow,low,med,low,unacc\\r\\nlow,low,med,med,good\\r\\nlow,low,med,high,vgood\\r\\nlow,low,big,low,unacc\\r\\nlow,low,big,med,good\\r\\nlow,low,big,high,vgood\\r\\nlow,low,small,low,unacc\\r\\nlow,low,small,med,acc\\r\\nlow,low,small,high,good\\r\\nlow,low,med,low,unacc\\r\\nlow,low,med,med,good\\r\\nlow,low,med,high,vgood\\r\\nlow,low,big,low,unacc\\r\\nlow,low,big,med,good\\r\\nlow,low,big,high,vgood'}"
            ]
          },
          "metadata": {},
          "execution_count": 1
        }
      ]
    },
    {
      "cell_type": "markdown",
      "metadata": {
        "id": "SJy4t3lIOgGp"
      },
      "source": [
        "Setelah dataset berhasil diunduh, langkah berikutnya adalah membaca dataset dengan memanfaatkan fungsi **readcsv** dari library pandas. Lakukan pembacaan berkas csv ke dalam dataframe dengan nama **data** menggunakan fungsi **readcsv**. Jangan lupa untuk melakukan import library pandas terlebih dahulu\n"
      ]
    },
    {
      "cell_type": "code",
      "metadata": {
        "id": "mdhbxk_2OzbB"
      },
      "source": [
        "import pandas as pd\n",
        "import numpy as np\n",
        "data = pd.read_csv('car_evaluation.csv')"
      ],
      "execution_count": 2,
      "outputs": []
    },
    {
      "cell_type": "markdown",
      "metadata": {
        "id": "w6NfrIDTOK38"
      },
      "source": [
        "\n",
        "\n",
        "Cek isi dataset Anda dengan menggunakan perintah **head()**"
      ]
    },
    {
      "cell_type": "code",
      "metadata": {
        "id": "Uaiaj796OFH3",
        "outputId": "d96e0e89-56e9-4dcd-dc1f-587f7e1a2c0e",
        "colab": {
          "base_uri": "https://localhost:8080/",
          "height": 206
        }
      },
      "source": [
        "data.head()"
      ],
      "execution_count": 3,
      "outputs": [
        {
          "output_type": "execute_result",
          "data": {
            "text/plain": [
              "  buying  maint lug_boot safety  class\n",
              "0  vhigh  vhigh    small    low  unacc\n",
              "1  vhigh  vhigh    small    med  unacc\n",
              "2  vhigh  vhigh    small   high  unacc\n",
              "3  vhigh  vhigh      med    low  unacc\n",
              "4  vhigh  vhigh      med    med  unacc"
            ],
            "text/html": [
              "\n",
              "  <div id=\"df-e452f103-889f-4785-b641-64a280c212c1\" class=\"colab-df-container\">\n",
              "    <div>\n",
              "<style scoped>\n",
              "    .dataframe tbody tr th:only-of-type {\n",
              "        vertical-align: middle;\n",
              "    }\n",
              "\n",
              "    .dataframe tbody tr th {\n",
              "        vertical-align: top;\n",
              "    }\n",
              "\n",
              "    .dataframe thead th {\n",
              "        text-align: right;\n",
              "    }\n",
              "</style>\n",
              "<table border=\"1\" class=\"dataframe\">\n",
              "  <thead>\n",
              "    <tr style=\"text-align: right;\">\n",
              "      <th></th>\n",
              "      <th>buying</th>\n",
              "      <th>maint</th>\n",
              "      <th>lug_boot</th>\n",
              "      <th>safety</th>\n",
              "      <th>class</th>\n",
              "    </tr>\n",
              "  </thead>\n",
              "  <tbody>\n",
              "    <tr>\n",
              "      <th>0</th>\n",
              "      <td>vhigh</td>\n",
              "      <td>vhigh</td>\n",
              "      <td>small</td>\n",
              "      <td>low</td>\n",
              "      <td>unacc</td>\n",
              "    </tr>\n",
              "    <tr>\n",
              "      <th>1</th>\n",
              "      <td>vhigh</td>\n",
              "      <td>vhigh</td>\n",
              "      <td>small</td>\n",
              "      <td>med</td>\n",
              "      <td>unacc</td>\n",
              "    </tr>\n",
              "    <tr>\n",
              "      <th>2</th>\n",
              "      <td>vhigh</td>\n",
              "      <td>vhigh</td>\n",
              "      <td>small</td>\n",
              "      <td>high</td>\n",
              "      <td>unacc</td>\n",
              "    </tr>\n",
              "    <tr>\n",
              "      <th>3</th>\n",
              "      <td>vhigh</td>\n",
              "      <td>vhigh</td>\n",
              "      <td>med</td>\n",
              "      <td>low</td>\n",
              "      <td>unacc</td>\n",
              "    </tr>\n",
              "    <tr>\n",
              "      <th>4</th>\n",
              "      <td>vhigh</td>\n",
              "      <td>vhigh</td>\n",
              "      <td>med</td>\n",
              "      <td>med</td>\n",
              "      <td>unacc</td>\n",
              "    </tr>\n",
              "  </tbody>\n",
              "</table>\n",
              "</div>\n",
              "    <div class=\"colab-df-buttons\">\n",
              "\n",
              "  <div class=\"colab-df-container\">\n",
              "    <button class=\"colab-df-convert\" onclick=\"convertToInteractive('df-e452f103-889f-4785-b641-64a280c212c1')\"\n",
              "            title=\"Convert this dataframe to an interactive table.\"\n",
              "            style=\"display:none;\">\n",
              "\n",
              "  <svg xmlns=\"http://www.w3.org/2000/svg\" height=\"24px\" viewBox=\"0 -960 960 960\">\n",
              "    <path d=\"M120-120v-720h720v720H120Zm60-500h600v-160H180v160Zm220 220h160v-160H400v160Zm0 220h160v-160H400v160ZM180-400h160v-160H180v160Zm440 0h160v-160H620v160ZM180-180h160v-160H180v160Zm440 0h160v-160H620v160Z\"/>\n",
              "  </svg>\n",
              "    </button>\n",
              "\n",
              "  <style>\n",
              "    .colab-df-container {\n",
              "      display:flex;\n",
              "      gap: 12px;\n",
              "    }\n",
              "\n",
              "    .colab-df-convert {\n",
              "      background-color: #E8F0FE;\n",
              "      border: none;\n",
              "      border-radius: 50%;\n",
              "      cursor: pointer;\n",
              "      display: none;\n",
              "      fill: #1967D2;\n",
              "      height: 32px;\n",
              "      padding: 0 0 0 0;\n",
              "      width: 32px;\n",
              "    }\n",
              "\n",
              "    .colab-df-convert:hover {\n",
              "      background-color: #E2EBFA;\n",
              "      box-shadow: 0px 1px 2px rgba(60, 64, 67, 0.3), 0px 1px 3px 1px rgba(60, 64, 67, 0.15);\n",
              "      fill: #174EA6;\n",
              "    }\n",
              "\n",
              "    .colab-df-buttons div {\n",
              "      margin-bottom: 4px;\n",
              "    }\n",
              "\n",
              "    [theme=dark] .colab-df-convert {\n",
              "      background-color: #3B4455;\n",
              "      fill: #D2E3FC;\n",
              "    }\n",
              "\n",
              "    [theme=dark] .colab-df-convert:hover {\n",
              "      background-color: #434B5C;\n",
              "      box-shadow: 0px 1px 3px 1px rgba(0, 0, 0, 0.15);\n",
              "      filter: drop-shadow(0px 1px 2px rgba(0, 0, 0, 0.3));\n",
              "      fill: #FFFFFF;\n",
              "    }\n",
              "  </style>\n",
              "\n",
              "    <script>\n",
              "      const buttonEl =\n",
              "        document.querySelector('#df-e452f103-889f-4785-b641-64a280c212c1 button.colab-df-convert');\n",
              "      buttonEl.style.display =\n",
              "        google.colab.kernel.accessAllowed ? 'block' : 'none';\n",
              "\n",
              "      async function convertToInteractive(key) {\n",
              "        const element = document.querySelector('#df-e452f103-889f-4785-b641-64a280c212c1');\n",
              "        const dataTable =\n",
              "          await google.colab.kernel.invokeFunction('convertToInteractive',\n",
              "                                                    [key], {});\n",
              "        if (!dataTable) return;\n",
              "\n",
              "        const docLinkHtml = 'Like what you see? Visit the ' +\n",
              "          '<a target=\"_blank\" href=https://colab.research.google.com/notebooks/data_table.ipynb>data table notebook</a>'\n",
              "          + ' to learn more about interactive tables.';\n",
              "        element.innerHTML = '';\n",
              "        dataTable['output_type'] = 'display_data';\n",
              "        await google.colab.output.renderOutput(dataTable, element);\n",
              "        const docLink = document.createElement('div');\n",
              "        docLink.innerHTML = docLinkHtml;\n",
              "        element.appendChild(docLink);\n",
              "      }\n",
              "    </script>\n",
              "  </div>\n",
              "\n",
              "\n",
              "<div id=\"df-a323471e-6d0b-49f6-a812-083dda51ea0a\">\n",
              "  <button class=\"colab-df-quickchart\" onclick=\"quickchart('df-a323471e-6d0b-49f6-a812-083dda51ea0a')\"\n",
              "            title=\"Suggest charts\"\n",
              "            style=\"display:none;\">\n",
              "\n",
              "<svg xmlns=\"http://www.w3.org/2000/svg\" height=\"24px\"viewBox=\"0 0 24 24\"\n",
              "     width=\"24px\">\n",
              "    <g>\n",
              "        <path d=\"M19 3H5c-1.1 0-2 .9-2 2v14c0 1.1.9 2 2 2h14c1.1 0 2-.9 2-2V5c0-1.1-.9-2-2-2zM9 17H7v-7h2v7zm4 0h-2V7h2v10zm4 0h-2v-4h2v4z\"/>\n",
              "    </g>\n",
              "</svg>\n",
              "  </button>\n",
              "\n",
              "<style>\n",
              "  .colab-df-quickchart {\n",
              "      --bg-color: #E8F0FE;\n",
              "      --fill-color: #1967D2;\n",
              "      --hover-bg-color: #E2EBFA;\n",
              "      --hover-fill-color: #174EA6;\n",
              "      --disabled-fill-color: #AAA;\n",
              "      --disabled-bg-color: #DDD;\n",
              "  }\n",
              "\n",
              "  [theme=dark] .colab-df-quickchart {\n",
              "      --bg-color: #3B4455;\n",
              "      --fill-color: #D2E3FC;\n",
              "      --hover-bg-color: #434B5C;\n",
              "      --hover-fill-color: #FFFFFF;\n",
              "      --disabled-bg-color: #3B4455;\n",
              "      --disabled-fill-color: #666;\n",
              "  }\n",
              "\n",
              "  .colab-df-quickchart {\n",
              "    background-color: var(--bg-color);\n",
              "    border: none;\n",
              "    border-radius: 50%;\n",
              "    cursor: pointer;\n",
              "    display: none;\n",
              "    fill: var(--fill-color);\n",
              "    height: 32px;\n",
              "    padding: 0;\n",
              "    width: 32px;\n",
              "  }\n",
              "\n",
              "  .colab-df-quickchart:hover {\n",
              "    background-color: var(--hover-bg-color);\n",
              "    box-shadow: 0 1px 2px rgba(60, 64, 67, 0.3), 0 1px 3px 1px rgba(60, 64, 67, 0.15);\n",
              "    fill: var(--button-hover-fill-color);\n",
              "  }\n",
              "\n",
              "  .colab-df-quickchart-complete:disabled,\n",
              "  .colab-df-quickchart-complete:disabled:hover {\n",
              "    background-color: var(--disabled-bg-color);\n",
              "    fill: var(--disabled-fill-color);\n",
              "    box-shadow: none;\n",
              "  }\n",
              "\n",
              "  .colab-df-spinner {\n",
              "    border: 2px solid var(--fill-color);\n",
              "    border-color: transparent;\n",
              "    border-bottom-color: var(--fill-color);\n",
              "    animation:\n",
              "      spin 1s steps(1) infinite;\n",
              "  }\n",
              "\n",
              "  @keyframes spin {\n",
              "    0% {\n",
              "      border-color: transparent;\n",
              "      border-bottom-color: var(--fill-color);\n",
              "      border-left-color: var(--fill-color);\n",
              "    }\n",
              "    20% {\n",
              "      border-color: transparent;\n",
              "      border-left-color: var(--fill-color);\n",
              "      border-top-color: var(--fill-color);\n",
              "    }\n",
              "    30% {\n",
              "      border-color: transparent;\n",
              "      border-left-color: var(--fill-color);\n",
              "      border-top-color: var(--fill-color);\n",
              "      border-right-color: var(--fill-color);\n",
              "    }\n",
              "    40% {\n",
              "      border-color: transparent;\n",
              "      border-right-color: var(--fill-color);\n",
              "      border-top-color: var(--fill-color);\n",
              "    }\n",
              "    60% {\n",
              "      border-color: transparent;\n",
              "      border-right-color: var(--fill-color);\n",
              "    }\n",
              "    80% {\n",
              "      border-color: transparent;\n",
              "      border-right-color: var(--fill-color);\n",
              "      border-bottom-color: var(--fill-color);\n",
              "    }\n",
              "    90% {\n",
              "      border-color: transparent;\n",
              "      border-bottom-color: var(--fill-color);\n",
              "    }\n",
              "  }\n",
              "</style>\n",
              "\n",
              "  <script>\n",
              "    async function quickchart(key) {\n",
              "      const quickchartButtonEl =\n",
              "        document.querySelector('#' + key + ' button');\n",
              "      quickchartButtonEl.disabled = true;  // To prevent multiple clicks.\n",
              "      quickchartButtonEl.classList.add('colab-df-spinner');\n",
              "      try {\n",
              "        const charts = await google.colab.kernel.invokeFunction(\n",
              "            'suggestCharts', [key], {});\n",
              "      } catch (error) {\n",
              "        console.error('Error during call to suggestCharts:', error);\n",
              "      }\n",
              "      quickchartButtonEl.classList.remove('colab-df-spinner');\n",
              "      quickchartButtonEl.classList.add('colab-df-quickchart-complete');\n",
              "    }\n",
              "    (() => {\n",
              "      let quickchartButtonEl =\n",
              "        document.querySelector('#df-a323471e-6d0b-49f6-a812-083dda51ea0a button');\n",
              "      quickchartButtonEl.style.display =\n",
              "        google.colab.kernel.accessAllowed ? 'block' : 'none';\n",
              "    })();\n",
              "  </script>\n",
              "</div>\n",
              "    </div>\n",
              "  </div>\n"
            ],
            "application/vnd.google.colaboratory.intrinsic+json": {
              "type": "dataframe",
              "variable_name": "data",
              "summary": "{\n  \"name\": \"data\",\n  \"rows\": 1728,\n  \"fields\": [\n    {\n      \"column\": \"buying\",\n      \"properties\": {\n        \"dtype\": \"category\",\n        \"num_unique_values\": 4,\n        \"samples\": [\n          \"high\",\n          \"low\",\n          \"vhigh\"\n        ],\n        \"semantic_type\": \"\",\n        \"description\": \"\"\n      }\n    },\n    {\n      \"column\": \"maint\",\n      \"properties\": {\n        \"dtype\": \"category\",\n        \"num_unique_values\": 4,\n        \"samples\": [\n          \"high\",\n          \"low\",\n          \"vhigh\"\n        ],\n        \"semantic_type\": \"\",\n        \"description\": \"\"\n      }\n    },\n    {\n      \"column\": \"lug_boot\",\n      \"properties\": {\n        \"dtype\": \"category\",\n        \"num_unique_values\": 3,\n        \"samples\": [\n          \"small\",\n          \"med\",\n          \"big\"\n        ],\n        \"semantic_type\": \"\",\n        \"description\": \"\"\n      }\n    },\n    {\n      \"column\": \"safety\",\n      \"properties\": {\n        \"dtype\": \"category\",\n        \"num_unique_values\": 3,\n        \"samples\": [\n          \"low\",\n          \"med\",\n          \"high\"\n        ],\n        \"semantic_type\": \"\",\n        \"description\": \"\"\n      }\n    },\n    {\n      \"column\": \"class\",\n      \"properties\": {\n        \"dtype\": \"category\",\n        \"num_unique_values\": 4,\n        \"samples\": [\n          \"acc\",\n          \"good\",\n          \"unacc\"\n        ],\n        \"semantic_type\": \"\",\n        \"description\": \"\"\n      }\n    }\n  ]\n}"
            }
          },
          "metadata": {},
          "execution_count": 3
        }
      ]
    },
    {
      "cell_type": "markdown",
      "metadata": {
        "id": "lfi1uHIxPdDe"
      },
      "source": [
        "## 2) Membagi data menjadi data latih dan data uji\n",
        "\n",
        "Metode pembelajaran mesin memerlukan dua jenis data :\n",
        "\n",
        "\n",
        "1.   Data latih : Digunakan untuk proses training metode klasifikasi\n",
        "2.   Data uji : Digunakan untuk proses evaluasi metode klasifikasi\n",
        "\n",
        "Data uji dan data latih perlu dibuat terpisah (mutualy exclusive) agar hasil evaluasi lebih akurat.\n",
        "\n",
        "Data uji dan data latih dapat dibuat dengan cara membagi dataset dengan rasio tertentu, misalnya 80% data latih dan 20% data uji.\n",
        "\n",
        "Library Scikit-learn memiliki fungsi [train_test_split](https://scikit-learn.org/stable/modules/generated/sklearn.model_selection.train_test_split.html) pada modul **model_selection** untuk membagi dataset menjadi data latih dan data uji. Bagilah dataset anda menjadi dua, yaitu **data_latih** dan **data_uji**. Agar pengacakan data dilakukan secara konstan, parameter **random_state** diisi dengan nilai integer tertentu, pada praktikum ini diset 101. Kemudian, nilai indeks pada data latih dan data uji diatur ulang agar berurutan nilainya\n"
      ]
    },
    {
      "cell_type": "code",
      "metadata": {
        "id": "jJjfXgfmPTlU",
        "outputId": "0b825078-03c6-4333-a4c7-da0acc94a5ad",
        "colab": {
          "base_uri": "https://localhost:8080/",
          "height": 424
        }
      },
      "source": [
        "from sklearn.model_selection import train_test_split\n",
        "\n",
        "data_latih, data_uji = train_test_split(data, test_size = 0.2, random_state = 101)\n",
        "data_latih.reset_index(drop = True)\n",
        "data_uji.reset_index(drop = True)"
      ],
      "execution_count": 4,
      "outputs": [
        {
          "output_type": "execute_result",
          "data": {
            "text/plain": [
              "    buying  maint lug_boot safety  class\n",
              "0    vhigh   high      med    med  unacc\n",
              "1      low    med    small   high  unacc\n",
              "2    vhigh    low      big    med  unacc\n",
              "3      low  vhigh    small    med  unacc\n",
              "4      med    low    small    low  unacc\n",
              "..     ...    ...      ...    ...    ...\n",
              "341   high    med      med    med  unacc\n",
              "342    low    med      big    med   good\n",
              "343  vhigh  vhigh      big    med  unacc\n",
              "344  vhigh    low      med    low  unacc\n",
              "345  vhigh    low      med    med    acc\n",
              "\n",
              "[346 rows x 5 columns]"
            ],
            "text/html": [
              "\n",
              "  <div id=\"df-7a3a023e-7ff5-4720-9c26-44631f820e91\" class=\"colab-df-container\">\n",
              "    <div>\n",
              "<style scoped>\n",
              "    .dataframe tbody tr th:only-of-type {\n",
              "        vertical-align: middle;\n",
              "    }\n",
              "\n",
              "    .dataframe tbody tr th {\n",
              "        vertical-align: top;\n",
              "    }\n",
              "\n",
              "    .dataframe thead th {\n",
              "        text-align: right;\n",
              "    }\n",
              "</style>\n",
              "<table border=\"1\" class=\"dataframe\">\n",
              "  <thead>\n",
              "    <tr style=\"text-align: right;\">\n",
              "      <th></th>\n",
              "      <th>buying</th>\n",
              "      <th>maint</th>\n",
              "      <th>lug_boot</th>\n",
              "      <th>safety</th>\n",
              "      <th>class</th>\n",
              "    </tr>\n",
              "  </thead>\n",
              "  <tbody>\n",
              "    <tr>\n",
              "      <th>0</th>\n",
              "      <td>vhigh</td>\n",
              "      <td>high</td>\n",
              "      <td>med</td>\n",
              "      <td>med</td>\n",
              "      <td>unacc</td>\n",
              "    </tr>\n",
              "    <tr>\n",
              "      <th>1</th>\n",
              "      <td>low</td>\n",
              "      <td>med</td>\n",
              "      <td>small</td>\n",
              "      <td>high</td>\n",
              "      <td>unacc</td>\n",
              "    </tr>\n",
              "    <tr>\n",
              "      <th>2</th>\n",
              "      <td>vhigh</td>\n",
              "      <td>low</td>\n",
              "      <td>big</td>\n",
              "      <td>med</td>\n",
              "      <td>unacc</td>\n",
              "    </tr>\n",
              "    <tr>\n",
              "      <th>3</th>\n",
              "      <td>low</td>\n",
              "      <td>vhigh</td>\n",
              "      <td>small</td>\n",
              "      <td>med</td>\n",
              "      <td>unacc</td>\n",
              "    </tr>\n",
              "    <tr>\n",
              "      <th>4</th>\n",
              "      <td>med</td>\n",
              "      <td>low</td>\n",
              "      <td>small</td>\n",
              "      <td>low</td>\n",
              "      <td>unacc</td>\n",
              "    </tr>\n",
              "    <tr>\n",
              "      <th>...</th>\n",
              "      <td>...</td>\n",
              "      <td>...</td>\n",
              "      <td>...</td>\n",
              "      <td>...</td>\n",
              "      <td>...</td>\n",
              "    </tr>\n",
              "    <tr>\n",
              "      <th>341</th>\n",
              "      <td>high</td>\n",
              "      <td>med</td>\n",
              "      <td>med</td>\n",
              "      <td>med</td>\n",
              "      <td>unacc</td>\n",
              "    </tr>\n",
              "    <tr>\n",
              "      <th>342</th>\n",
              "      <td>low</td>\n",
              "      <td>med</td>\n",
              "      <td>big</td>\n",
              "      <td>med</td>\n",
              "      <td>good</td>\n",
              "    </tr>\n",
              "    <tr>\n",
              "      <th>343</th>\n",
              "      <td>vhigh</td>\n",
              "      <td>vhigh</td>\n",
              "      <td>big</td>\n",
              "      <td>med</td>\n",
              "      <td>unacc</td>\n",
              "    </tr>\n",
              "    <tr>\n",
              "      <th>344</th>\n",
              "      <td>vhigh</td>\n",
              "      <td>low</td>\n",
              "      <td>med</td>\n",
              "      <td>low</td>\n",
              "      <td>unacc</td>\n",
              "    </tr>\n",
              "    <tr>\n",
              "      <th>345</th>\n",
              "      <td>vhigh</td>\n",
              "      <td>low</td>\n",
              "      <td>med</td>\n",
              "      <td>med</td>\n",
              "      <td>acc</td>\n",
              "    </tr>\n",
              "  </tbody>\n",
              "</table>\n",
              "<p>346 rows × 5 columns</p>\n",
              "</div>\n",
              "    <div class=\"colab-df-buttons\">\n",
              "\n",
              "  <div class=\"colab-df-container\">\n",
              "    <button class=\"colab-df-convert\" onclick=\"convertToInteractive('df-7a3a023e-7ff5-4720-9c26-44631f820e91')\"\n",
              "            title=\"Convert this dataframe to an interactive table.\"\n",
              "            style=\"display:none;\">\n",
              "\n",
              "  <svg xmlns=\"http://www.w3.org/2000/svg\" height=\"24px\" viewBox=\"0 -960 960 960\">\n",
              "    <path d=\"M120-120v-720h720v720H120Zm60-500h600v-160H180v160Zm220 220h160v-160H400v160Zm0 220h160v-160H400v160ZM180-400h160v-160H180v160Zm440 0h160v-160H620v160ZM180-180h160v-160H180v160Zm440 0h160v-160H620v160Z\"/>\n",
              "  </svg>\n",
              "    </button>\n",
              "\n",
              "  <style>\n",
              "    .colab-df-container {\n",
              "      display:flex;\n",
              "      gap: 12px;\n",
              "    }\n",
              "\n",
              "    .colab-df-convert {\n",
              "      background-color: #E8F0FE;\n",
              "      border: none;\n",
              "      border-radius: 50%;\n",
              "      cursor: pointer;\n",
              "      display: none;\n",
              "      fill: #1967D2;\n",
              "      height: 32px;\n",
              "      padding: 0 0 0 0;\n",
              "      width: 32px;\n",
              "    }\n",
              "\n",
              "    .colab-df-convert:hover {\n",
              "      background-color: #E2EBFA;\n",
              "      box-shadow: 0px 1px 2px rgba(60, 64, 67, 0.3), 0px 1px 3px 1px rgba(60, 64, 67, 0.15);\n",
              "      fill: #174EA6;\n",
              "    }\n",
              "\n",
              "    .colab-df-buttons div {\n",
              "      margin-bottom: 4px;\n",
              "    }\n",
              "\n",
              "    [theme=dark] .colab-df-convert {\n",
              "      background-color: #3B4455;\n",
              "      fill: #D2E3FC;\n",
              "    }\n",
              "\n",
              "    [theme=dark] .colab-df-convert:hover {\n",
              "      background-color: #434B5C;\n",
              "      box-shadow: 0px 1px 3px 1px rgba(0, 0, 0, 0.15);\n",
              "      filter: drop-shadow(0px 1px 2px rgba(0, 0, 0, 0.3));\n",
              "      fill: #FFFFFF;\n",
              "    }\n",
              "  </style>\n",
              "\n",
              "    <script>\n",
              "      const buttonEl =\n",
              "        document.querySelector('#df-7a3a023e-7ff5-4720-9c26-44631f820e91 button.colab-df-convert');\n",
              "      buttonEl.style.display =\n",
              "        google.colab.kernel.accessAllowed ? 'block' : 'none';\n",
              "\n",
              "      async function convertToInteractive(key) {\n",
              "        const element = document.querySelector('#df-7a3a023e-7ff5-4720-9c26-44631f820e91');\n",
              "        const dataTable =\n",
              "          await google.colab.kernel.invokeFunction('convertToInteractive',\n",
              "                                                    [key], {});\n",
              "        if (!dataTable) return;\n",
              "\n",
              "        const docLinkHtml = 'Like what you see? Visit the ' +\n",
              "          '<a target=\"_blank\" href=https://colab.research.google.com/notebooks/data_table.ipynb>data table notebook</a>'\n",
              "          + ' to learn more about interactive tables.';\n",
              "        element.innerHTML = '';\n",
              "        dataTable['output_type'] = 'display_data';\n",
              "        await google.colab.output.renderOutput(dataTable, element);\n",
              "        const docLink = document.createElement('div');\n",
              "        docLink.innerHTML = docLinkHtml;\n",
              "        element.appendChild(docLink);\n",
              "      }\n",
              "    </script>\n",
              "  </div>\n",
              "\n",
              "\n",
              "<div id=\"df-2f23eeec-f5ba-4399-82c5-806bca406168\">\n",
              "  <button class=\"colab-df-quickchart\" onclick=\"quickchart('df-2f23eeec-f5ba-4399-82c5-806bca406168')\"\n",
              "            title=\"Suggest charts\"\n",
              "            style=\"display:none;\">\n",
              "\n",
              "<svg xmlns=\"http://www.w3.org/2000/svg\" height=\"24px\"viewBox=\"0 0 24 24\"\n",
              "     width=\"24px\">\n",
              "    <g>\n",
              "        <path d=\"M19 3H5c-1.1 0-2 .9-2 2v14c0 1.1.9 2 2 2h14c1.1 0 2-.9 2-2V5c0-1.1-.9-2-2-2zM9 17H7v-7h2v7zm4 0h-2V7h2v10zm4 0h-2v-4h2v4z\"/>\n",
              "    </g>\n",
              "</svg>\n",
              "  </button>\n",
              "\n",
              "<style>\n",
              "  .colab-df-quickchart {\n",
              "      --bg-color: #E8F0FE;\n",
              "      --fill-color: #1967D2;\n",
              "      --hover-bg-color: #E2EBFA;\n",
              "      --hover-fill-color: #174EA6;\n",
              "      --disabled-fill-color: #AAA;\n",
              "      --disabled-bg-color: #DDD;\n",
              "  }\n",
              "\n",
              "  [theme=dark] .colab-df-quickchart {\n",
              "      --bg-color: #3B4455;\n",
              "      --fill-color: #D2E3FC;\n",
              "      --hover-bg-color: #434B5C;\n",
              "      --hover-fill-color: #FFFFFF;\n",
              "      --disabled-bg-color: #3B4455;\n",
              "      --disabled-fill-color: #666;\n",
              "  }\n",
              "\n",
              "  .colab-df-quickchart {\n",
              "    background-color: var(--bg-color);\n",
              "    border: none;\n",
              "    border-radius: 50%;\n",
              "    cursor: pointer;\n",
              "    display: none;\n",
              "    fill: var(--fill-color);\n",
              "    height: 32px;\n",
              "    padding: 0;\n",
              "    width: 32px;\n",
              "  }\n",
              "\n",
              "  .colab-df-quickchart:hover {\n",
              "    background-color: var(--hover-bg-color);\n",
              "    box-shadow: 0 1px 2px rgba(60, 64, 67, 0.3), 0 1px 3px 1px rgba(60, 64, 67, 0.15);\n",
              "    fill: var(--button-hover-fill-color);\n",
              "  }\n",
              "\n",
              "  .colab-df-quickchart-complete:disabled,\n",
              "  .colab-df-quickchart-complete:disabled:hover {\n",
              "    background-color: var(--disabled-bg-color);\n",
              "    fill: var(--disabled-fill-color);\n",
              "    box-shadow: none;\n",
              "  }\n",
              "\n",
              "  .colab-df-spinner {\n",
              "    border: 2px solid var(--fill-color);\n",
              "    border-color: transparent;\n",
              "    border-bottom-color: var(--fill-color);\n",
              "    animation:\n",
              "      spin 1s steps(1) infinite;\n",
              "  }\n",
              "\n",
              "  @keyframes spin {\n",
              "    0% {\n",
              "      border-color: transparent;\n",
              "      border-bottom-color: var(--fill-color);\n",
              "      border-left-color: var(--fill-color);\n",
              "    }\n",
              "    20% {\n",
              "      border-color: transparent;\n",
              "      border-left-color: var(--fill-color);\n",
              "      border-top-color: var(--fill-color);\n",
              "    }\n",
              "    30% {\n",
              "      border-color: transparent;\n",
              "      border-left-color: var(--fill-color);\n",
              "      border-top-color: var(--fill-color);\n",
              "      border-right-color: var(--fill-color);\n",
              "    }\n",
              "    40% {\n",
              "      border-color: transparent;\n",
              "      border-right-color: var(--fill-color);\n",
              "      border-top-color: var(--fill-color);\n",
              "    }\n",
              "    60% {\n",
              "      border-color: transparent;\n",
              "      border-right-color: var(--fill-color);\n",
              "    }\n",
              "    80% {\n",
              "      border-color: transparent;\n",
              "      border-right-color: var(--fill-color);\n",
              "      border-bottom-color: var(--fill-color);\n",
              "    }\n",
              "    90% {\n",
              "      border-color: transparent;\n",
              "      border-bottom-color: var(--fill-color);\n",
              "    }\n",
              "  }\n",
              "</style>\n",
              "\n",
              "  <script>\n",
              "    async function quickchart(key) {\n",
              "      const quickchartButtonEl =\n",
              "        document.querySelector('#' + key + ' button');\n",
              "      quickchartButtonEl.disabled = true;  // To prevent multiple clicks.\n",
              "      quickchartButtonEl.classList.add('colab-df-spinner');\n",
              "      try {\n",
              "        const charts = await google.colab.kernel.invokeFunction(\n",
              "            'suggestCharts', [key], {});\n",
              "      } catch (error) {\n",
              "        console.error('Error during call to suggestCharts:', error);\n",
              "      }\n",
              "      quickchartButtonEl.classList.remove('colab-df-spinner');\n",
              "      quickchartButtonEl.classList.add('colab-df-quickchart-complete');\n",
              "    }\n",
              "    (() => {\n",
              "      let quickchartButtonEl =\n",
              "        document.querySelector('#df-2f23eeec-f5ba-4399-82c5-806bca406168 button');\n",
              "      quickchartButtonEl.style.display =\n",
              "        google.colab.kernel.accessAllowed ? 'block' : 'none';\n",
              "    })();\n",
              "  </script>\n",
              "</div>\n",
              "    </div>\n",
              "  </div>\n"
            ],
            "application/vnd.google.colaboratory.intrinsic+json": {
              "type": "dataframe",
              "summary": "{\n  \"name\": \"data_uji\",\n  \"rows\": 346,\n  \"fields\": [\n    {\n      \"column\": \"buying\",\n      \"properties\": {\n        \"dtype\": \"category\",\n        \"num_unique_values\": 4,\n        \"samples\": [\n          \"low\",\n          \"high\",\n          \"vhigh\"\n        ],\n        \"semantic_type\": \"\",\n        \"description\": \"\"\n      }\n    },\n    {\n      \"column\": \"maint\",\n      \"properties\": {\n        \"dtype\": \"category\",\n        \"num_unique_values\": 4,\n        \"samples\": [\n          \"med\",\n          \"vhigh\",\n          \"high\"\n        ],\n        \"semantic_type\": \"\",\n        \"description\": \"\"\n      }\n    },\n    {\n      \"column\": \"lug_boot\",\n      \"properties\": {\n        \"dtype\": \"category\",\n        \"num_unique_values\": 3,\n        \"samples\": [\n          \"med\",\n          \"small\",\n          \"big\"\n        ],\n        \"semantic_type\": \"\",\n        \"description\": \"\"\n      }\n    },\n    {\n      \"column\": \"safety\",\n      \"properties\": {\n        \"dtype\": \"category\",\n        \"num_unique_values\": 3,\n        \"samples\": [\n          \"med\",\n          \"high\",\n          \"low\"\n        ],\n        \"semantic_type\": \"\",\n        \"description\": \"\"\n      }\n    },\n    {\n      \"column\": \"class\",\n      \"properties\": {\n        \"dtype\": \"category\",\n        \"num_unique_values\": 4,\n        \"samples\": [\n          \"acc\",\n          \"good\",\n          \"unacc\"\n        ],\n        \"semantic_type\": \"\",\n        \"description\": \"\"\n      }\n    }\n  ]\n}"
            }
          },
          "metadata": {},
          "execution_count": 4
        }
      ]
    },
    {
      "cell_type": "markdown",
      "metadata": {
        "id": "tBhcsUDYfw2q"
      },
      "source": [
        "Tampilkan banyaknya data pada **data_latih** dan **data_uji**. Seharusnya **data_latih** terdiri dari 208 data, dan **data_uji** terdiri dari 52 data"
      ]
    },
    {
      "cell_type": "code",
      "metadata": {
        "id": "6OtySD4efmmQ",
        "outputId": "4b069212-f014-4bb1-802f-c40826fa7e71",
        "colab": {
          "base_uri": "https://localhost:8080/"
        }
      },
      "source": [
        "print(data_uji.shape[0])\n",
        "print(data_latih.shape[0])"
      ],
      "execution_count": 5,
      "outputs": [
        {
          "output_type": "stream",
          "name": "stdout",
          "text": [
            "346\n",
            "1382\n"
          ]
        }
      ]
    },
    {
      "cell_type": "markdown",
      "metadata": {
        "id": "xm_dJNeMgl9u"
      },
      "source": [
        "## 3) Menghitung Gini\n",
        "\n",
        "Nilai Gini merupakan salah satu kriteria penentu variabel apa yang akan digunakan untuk membentuk cabang pada decision tree. Variabel dengan nilai Gini terbesar akan digunakan sebagai pembentukan cabang\n",
        "\n",
        "Buatlah fungsi bernama **hitung_gini** yang berfungsi menghitung nilai Gini dari suatu nilai pada sebuah variabel"
      ]
    },
    {
      "cell_type": "code",
      "metadata": {
        "id": "QNEYOTLsfqld"
      },
      "source": [
        "def hitung_gini (kolom_kelas):\n",
        "  elemen, banyak = np.unique(kolom_kelas, return_counts = True)\n",
        "  nilai_gini = 1 - np.sum([(banyak[i]/np.sum(banyak))**2 for i in range (len(elemen))])\n",
        "  return nilai_gini"
      ],
      "execution_count": 6,
      "outputs": []
    },
    {
      "cell_type": "markdown",
      "metadata": {
        "id": "KaOXTHEmuNcL"
      },
      "source": [
        "Buatlah fungsi bernama **gini_split** yang digunakan untuk menghitung nilai Gini keseluruhan dari sebuah variabel."
      ]
    },
    {
      "cell_type": "code",
      "metadata": {
        "id": "Hxfrr832h61_"
      },
      "source": [
        "def gini_split(data, nama_fitur_split, nama_fitur_kelas):\n",
        "  nilai, banyak = np.unique(data[nama_fitur_split], return_counts = True)\n",
        "  gini_split = np.sum([(banyak[i]/np.sum(banyak))*hitung_gini(data.where(data[nama_fitur_split]==nilai[i]).dropna()[nama_fitur_kelas])for i in range(len(nilai))])\n",
        "  return gini_split"
      ],
      "execution_count": 7,
      "outputs": []
    },
    {
      "cell_type": "markdown",
      "metadata": {
        "id": "vF9NYqpVMHcc"
      },
      "source": [
        "Ujilah fungsi **gini_split** menggunakan data_latih pada variabel **buying** dan variabel kelas bernama **class**."
      ]
    },
    {
      "cell_type": "code",
      "metadata": {
        "id": "WZ60vxPEKOFv",
        "outputId": "67ecbe63-aa2c-4da3-f618-fe20f6381b8f",
        "colab": {
          "base_uri": "https://localhost:8080/"
        }
      },
      "source": [
        "gini_split(data_latih, \"buying\", \"class\")"
      ],
      "execution_count": 8,
      "outputs": [
        {
          "output_type": "execute_result",
          "data": {
            "text/plain": [
              "0.4498424838345615"
            ]
          },
          "metadata": {},
          "execution_count": 8
        }
      ]
    },
    {
      "cell_type": "markdown",
      "metadata": {
        "id": "46FZOwFIlkM_"
      },
      "source": [
        "## 4) Pembentukan pohon"
      ]
    },
    {
      "cell_type": "markdown",
      "metadata": {
        "id": "4wQfBDujvR_Z"
      },
      "source": [
        "Pembentukan pohon dilakukan secara rekursif. Seperti metode rekursif pada umumnya, perlu ditentukan kondisi berhenti terlebih dahulu. Kondisi berhenti pada pembentukan pohon adalah:\n",
        "\n",
        "\n",
        "1.   Jika hanya ada satu kelas pada data, kembalikan kelas tersebut\n",
        "2.   Jika fitur data  = 0 (tidak ada fitur yang tersisa), kembalikan kelas dari parent\n",
        "3. Jika data kosong (tidak ada data), kembalikan kelas dengan frekuensi terbanyak\n",
        "\n",
        "Selain kondisi berhenti tersebut, dilakukan pembentukan pohon secara rekursif menggunakan fungsi **buat_tree**.\n",
        "\n"
      ]
    },
    {
      "cell_type": "code",
      "metadata": {
        "id": "qFB6pLbeikcG"
      },
      "source": [
        "from re import sub\n",
        "def buat_tree(data, data_awal, daftar_fitur, nama_fitur_kelas, kelas_parent_node = None):\n",
        "  if len(np.unique(data[nama_fitur_kelas])) <=1:\n",
        "    return np.unique(data[nama_fitur_kelas])[0]\n",
        "\n",
        "  elif len(data) == 0:\n",
        "    return np.unique(data_awal [nama_fitur_kelas])[np.argmax(np.unique(data_awal)[nama_fitur_kelas], return_counts = True) [1]]\n",
        "\n",
        "  elif len(daftar_fitur)==0:\n",
        "    return kelas_parent_node\n",
        "\n",
        "  else:\n",
        "    kelas_parent_node = np.unique(data[nama_fitur_kelas])[np.argmax(np.unique(data[nama_fitur_kelas], return_counts = True) [1])]\n",
        "    nilai_split = [gini_split(data, fitur, nama_fitur_kelas) for fitur in daftar_fitur]\n",
        "    index_fitur_terbaik = np.argmin(nilai_split)\n",
        "    fitur_terbaik = daftar_fitur[index_fitur_terbaik]\n",
        "    tree = {fitur_terbaik:{}}\n",
        "\n",
        "    daftar_fitur = [i for i in daftar_fitur if i != fitur_terbaik]\n",
        "\n",
        "    for nilai in np.unique(data[fitur_terbaik]):\n",
        "      sub_data = data.where(data[fitur_terbaik] == nilai).dropna()\n",
        "      subtree = buat_tree(sub_data, data_awal, daftar_fitur, nama_fitur_kelas, kelas_parent_node)\n",
        "      tree[fitur_terbaik][nilai]=subtree\n",
        "\n",
        "    return(tree)"
      ],
      "execution_count": 9,
      "outputs": []
    },
    {
      "cell_type": "markdown",
      "metadata": {
        "id": "GsqCB1ntU020"
      },
      "source": [
        "Buatlah tree menggunakan data latih yang tersedia"
      ]
    },
    {
      "cell_type": "code",
      "metadata": {
        "id": "Ca6NaY09SN-R"
      },
      "source": [
        "tree= buat_tree(data_latih, data_latih, data_latih.columns[:-1], 'class')\n"
      ],
      "execution_count": 10,
      "outputs": []
    },
    {
      "cell_type": "markdown",
      "metadata": {
        "id": "evKQehVeU6YC"
      },
      "source": [
        "Tampilkan tree yang terbentuk. Gunakan library **pprint** untuk menampilkan dictionary secara teratur."
      ]
    },
    {
      "cell_type": "code",
      "metadata": {
        "id": "d8AMFsUoSsLt",
        "colab": {
          "base_uri": "https://localhost:8080/"
        },
        "outputId": "1f0c8c0a-8701-428c-cc7b-105f69bd0754"
      },
      "source": [
        "from pprint import pprint\n",
        "pprint(tree)"
      ],
      "execution_count": 11,
      "outputs": [
        {
          "output_type": "stream",
          "name": "stdout",
          "text": [
            "{'safety': {'high': {'buying': {'high': {'maint': {'high': {'lug_boot': {'big': 'acc',\n",
            "                                                                         'med': 'acc',\n",
            "                                                                         'small': 'acc'}},\n",
            "                                                   'low': {'lug_boot': {'big': 'acc',\n",
            "                                                                        'med': 'acc',\n",
            "                                                                        'small': 'acc'}},\n",
            "                                                   'med': {'lug_boot': {'big': 'acc',\n",
            "                                                                        'med': 'acc',\n",
            "                                                                        'small': 'acc'}},\n",
            "                                                   'vhigh': 'unacc'}},\n",
            "                                'low': {'maint': {'high': {'lug_boot': {'big': 'unacc',\n",
            "                                                                        'med': 'unacc',\n",
            "                                                                        'small': 'unacc'}},\n",
            "                                                  'low': {'lug_boot': {'big': 'unacc',\n",
            "                                                                       'med': 'unacc',\n",
            "                                                                       'small': 'unacc'}},\n",
            "                                                  'med': {'lug_boot': {'big': 'vgood',\n",
            "                                                                       'med': 'vgood',\n",
            "                                                                       'small': 'vgood'}},\n",
            "                                                  'vhigh': {'lug_boot': {'big': 'acc',\n",
            "                                                                         'med': 'acc',\n",
            "                                                                         'small': 'acc'}}}},\n",
            "                                'med': {'maint': {'high': {'lug_boot': {'big': 'acc',\n",
            "                                                                        'med': 'acc',\n",
            "                                                                        'small': 'acc'}},\n",
            "                                                  'low': {'lug_boot': {'big': 'good',\n",
            "                                                                       'med': 'good',\n",
            "                                                                       'small': 'good'}},\n",
            "                                                  'med': {'lug_boot': {'big': 'vgood',\n",
            "                                                                       'med': 'vgood',\n",
            "                                                                       'small': 'vgood'}},\n",
            "                                                  'vhigh': {'lug_boot': {'big': 'acc',\n",
            "                                                                         'med': 'acc',\n",
            "                                                                         'small': 'acc'}}}},\n",
            "                                'vhigh': {'maint': {'high': 'unacc',\n",
            "                                                    'low': {'lug_boot': {'big': 'acc',\n",
            "                                                                         'med': 'acc',\n",
            "                                                                         'small': 'acc'}},\n",
            "                                                    'med': {'lug_boot': {'big': 'acc',\n",
            "                                                                         'med': 'acc',\n",
            "                                                                         'small': 'acc'}},\n",
            "                                                    'vhigh': 'unacc'}}}},\n",
            "            'low': 'unacc',\n",
            "            'med': {'buying': {'high': {'lug_boot': {'big': {'maint': {'high': 'acc',\n",
            "                                                                       'low': 'acc',\n",
            "                                                                       'med': 'acc',\n",
            "                                                                       'vhigh': 'unacc'}},\n",
            "                                                     'med': {'maint': {'high': 'unacc',\n",
            "                                                                       'low': 'unacc',\n",
            "                                                                       'med': 'unacc',\n",
            "                                                                       'vhigh': 'unacc'}},\n",
            "                                                     'small': 'unacc'}},\n",
            "                               'low': {'maint': {'high': {'lug_boot': {'big': 'acc',\n",
            "                                                                       'med': 'acc',\n",
            "                                                                       'small': 'acc'}},\n",
            "                                                 'low': {'lug_boot': {'big': 'good',\n",
            "                                                                      'med': 'good',\n",
            "                                                                      'small': 'good'}},\n",
            "                                                 'med': {'lug_boot': {'big': 'unacc',\n",
            "                                                                      'med': 'unacc',\n",
            "                                                                      'small': 'unacc'}},\n",
            "                                                 'vhigh': {'lug_boot': {'big': 'unacc',\n",
            "                                                                        'med': 'unacc',\n",
            "                                                                        'small': 'unacc'}}}},\n",
            "                               'med': {'maint': {'high': {'lug_boot': {'big': 'unacc',\n",
            "                                                                       'med': 'unacc',\n",
            "                                                                       'small': 'unacc'}},\n",
            "                                                 'low': {'lug_boot': {'big': 'unacc',\n",
            "                                                                      'med': 'unacc',\n",
            "                                                                      'small': 'unacc'}},\n",
            "                                                 'med': {'lug_boot': {'big': 'acc',\n",
            "                                                                      'med': 'acc',\n",
            "                                                                      'small': 'acc'}},\n",
            "                                                 'vhigh': {'lug_boot': {'big': 'unacc',\n",
            "                                                                        'med': 'unacc',\n",
            "                                                                        'small': 'unacc'}}}},\n",
            "                               'vhigh': {'maint': {'high': 'unacc',\n",
            "                                                   'low': {'lug_boot': {'big': 'unacc',\n",
            "                                                                        'med': 'unacc',\n",
            "                                                                        'small': 'unacc'}},\n",
            "                                                   'med': {'lug_boot': {'big': 'unacc',\n",
            "                                                                        'med': 'unacc',\n",
            "                                                                        'small': 'unacc'}},\n",
            "                                                   'vhigh': 'unacc'}}}}}}\n"
          ]
        }
      ]
    },
    {
      "cell_type": "markdown",
      "metadata": {
        "id": "mou0Bi1cyswK"
      },
      "source": [
        "## 5) Proses prediksi\n",
        "\n",
        "Proses prediksi kelas pada data uji dilakukan dengan melakukan *tree traversal* sampai menemui leaf."
      ]
    },
    {
      "cell_type": "code",
      "metadata": {
        "id": "fzvwAIBh8g2e"
      },
      "source": [
        "def prediksi(data_uji, tree):\n",
        "  for key in list(data_uji.keys()):\n",
        "    if key in list(tree.keys()):\n",
        "      try:\n",
        "        hasil = tree[key][data_uji[key]]\n",
        "      except:\n",
        "        return 1\n",
        "      hasil = tree[key][data_uji[key]]\n",
        "      if isinstance(hasil, dict):\n",
        "        return prediksi(data_uji, hasil)\n",
        "      else:\n",
        "        return hasil"
      ],
      "execution_count": 12,
      "outputs": []
    },
    {
      "cell_type": "markdown",
      "metadata": {
        "id": "BChrt6JtXCDP"
      },
      "source": [
        "## 6) Proses Pengujian\n",
        "Lakukan pengujian menggunakan data uji. Kelas pada data uji perlu dihapus dan data uji perlu diubah menjadi dictionary"
      ]
    },
    {
      "cell_type": "code",
      "metadata": {
        "id": "IwY0kpvDXXSx",
        "colab": {
          "base_uri": "https://localhost:8080/"
        },
        "outputId": "4e37e78c-d793-4b27-fa7c-71bb7c1136b8"
      },
      "source": [
        "print(data_uji)"
      ],
      "execution_count": 13,
      "outputs": [
        {
          "output_type": "stream",
          "name": "stdout",
          "text": [
            "     buying  maint lug_boot safety  class\n",
            "184   vhigh   high      med    med  unacc\n",
            "1532    low    med    small   high  unacc\n",
            "412   vhigh    low      big    med  unacc\n",
            "1342    low  vhigh    small    med  unacc\n",
            "1233    med    low    small    low  unacc\n",
            "...     ...    ...      ...    ...    ...\n",
            "670    high    med      med    med  unacc\n",
            "1591    low    med      big    med   good\n",
            "34    vhigh  vhigh      big    med  unacc\n",
            "336   vhigh    low      med    low  unacc\n",
            "373   vhigh    low      med    med    acc\n",
            "\n",
            "[346 rows x 5 columns]\n"
          ]
        }
      ]
    },
    {
      "cell_type": "code",
      "source": [
        "data_uji_dict=data_uji.iloc[:, :-1].to_dict(orient = \"records\")"
      ],
      "metadata": {
        "id": "iBw5lxsRTdu9"
      },
      "execution_count": 14,
      "outputs": []
    },
    {
      "cell_type": "markdown",
      "metadata": {
        "id": "IbrQ119iRrJV"
      },
      "source": [
        "Lakukan pengujian terhadap keseluruhan data uji menggunakan looping."
      ]
    },
    {
      "cell_type": "code",
      "metadata": {
        "id": "s8AC5eKnYAnX"
      },
      "source": [
        "hasil_prediksi_total = []\n",
        "for i in range(len(data_uji_dict)):\n",
        "  hasil_prediksi = prediksi(data_uji_dict[i], tree)\n",
        "  hasil_prediksi_total.append(hasil_prediksi)"
      ],
      "execution_count": 15,
      "outputs": []
    },
    {
      "cell_type": "markdown",
      "metadata": {
        "id": "h7JhY6JXZRi6"
      },
      "source": [
        "Bandingkan hasil prediksi dengan label sebenarnya. Hitunglah banyaknya data uji yang memiliki kelas prediksi sama dengan kelas sebenarnya"
      ]
    },
    {
      "cell_type": "code",
      "metadata": {
        "id": "KZMRbhqwaCKd",
        "colab": {
          "base_uri": "https://localhost:8080/"
        },
        "outputId": "6d37ad82-58d5-4117-c070-818803c9d575"
      },
      "source": [
        "print(\"Total prediksi benar: \", sum(hasil_prediksi_total == data_uji['class']))"
      ],
      "execution_count": 16,
      "outputs": [
        {
          "output_type": "stream",
          "name": "stdout",
          "text": [
            "Total prediksi benar:  251\n"
          ]
        }
      ]
    },
    {
      "cell_type": "markdown",
      "metadata": {
        "id": "ZiDmUxVBuo42"
      },
      "source": [
        "## TUGAS\n",
        "Pada tugas kali ini Anda diminta memodifikasi metode pembentukan tree yang telah Anda agar metode tersebut menggunakan information gain sebagai dasar percabangan. Lengkapilah kerangka source code di bawah ini"
      ]
    },
    {
      "cell_type": "markdown",
      "metadata": {
        "id": "IYMKi5wxVa2R"
      },
      "source": [
        "Lengkapi fungsi hitung_entropy"
      ]
    },
    {
      "cell_type": "code",
      "metadata": {
        "id": "qzcjfgqO_exR"
      },
      "source": [
        "def hitung_entropy(kolom_kelas):\n",
        "  element, count = np.unique(kolom_kelas, return_counts = True)\n",
        "\n",
        "  probability =count/np.sum(count)\n",
        "  entropy = -np.sum(probability * np.log2(probability))\n",
        "  return entropy"
      ],
      "execution_count": 23,
      "outputs": []
    },
    {
      "cell_type": "markdown",
      "metadata": {
        "id": "JQPDwKvWVejo"
      },
      "source": [
        "Lengkapi fungsi information_gain"
      ]
    },
    {
      "cell_type": "code",
      "metadata": {
        "id": "nICq1Ce8TVXV"
      },
      "source": [
        "def information_gain(data, nama_fitur_split, nama_fitur_kelas):\n",
        "  entropy_p = hitung_entropy(data[nama_fitur_kelas])\n",
        "  element, count = np.unique(data[nama_fitur_split], return_counts = True)\n",
        "  entropy_i = np.sum([(count[i]/np.sum(count))*hitung_entropy(data.where(data[nama_fitur_split]==element[i]).dropna()[nama_fitur_kelas])for i in range(len(element))])\n",
        "  information_gain=entropy_p - entropy_i\n",
        "  return information_gain"
      ],
      "execution_count": 34,
      "outputs": []
    },
    {
      "cell_type": "markdown",
      "metadata": {
        "id": "wRTzVLc4VnM6"
      },
      "source": [
        "Lengkapi fungsi **buat_tree_ig**. Isinya sama persis dengan fungsi **buat_tree**, hanya saja penghitungan **gini_split** diganti dengan **information_gain**. Selain itu, percabangan dilakukan dengan menggunakan nilai **information_gain** **terbesar**"
      ]
    },
    {
      "cell_type": "code",
      "metadata": {
        "id": "8EJBMOEJUfOV"
      },
      "source": [
        "def buat_tree_ig(data,data_awal, daftar_fitur, nama_fitur_kelas,kelas_parent_node=None):\n",
        "  if len(np.unique(data[nama_fitur_kelas])) <= 1:\n",
        "    return np.unique(data[nama_fitur_kelas])[0]\n",
        "\n",
        "  elif len(data) == 0:\n",
        "    return\n",
        "    np.unique(data_awal[nama_fitur_kelas])[np.argmax(np.unique(data_awal[nama_fitur_kelas], return_counts = True)[1])]\n",
        "\n",
        "  elif len(daftar_fitur) == 0:\n",
        "    return kelas_parent_node\n",
        "\n",
        "  else:\n",
        "    kelas_parent_node = np.unique(data[nama_fitur_kelas])[np.argmax(np.unique(data[nama_fitur_kelas], return_counts=True)[1])]\n",
        "    nilai_split = [information_gain(data,fitur,nama_fitur_kelas) for fitur in daftar_fitur]\n",
        "    index_fitur_terbaik = np.argmax(nilai_split)\n",
        "    fitur_terbaik = daftar_fitur[index_fitur_terbaik]\n",
        "    tree = {fitur_terbaik:{}}\n",
        "    daftar_fitur = [i for i in daftar_fitur if i != fitur_terbaik]\n",
        "    for nilai in np.unique(data[fitur_terbaik]):\n",
        "      sub_data = data.where(data[fitur_terbaik] == nilai).dropna()\n",
        "      subtree = buat_tree(sub_data,data_awal,daftar_fitur,nama_fitur_kelas,kelas_parent_node)\n",
        "      tree[fitur_terbaik][nilai] = subtree\n",
        "  return(tree)"
      ],
      "execution_count": 35,
      "outputs": []
    },
    {
      "cell_type": "markdown",
      "metadata": {
        "id": "CKVka-apV_0n"
      },
      "source": [
        "Lakukan pembentukan tree menggunakan fungsi **buat_tree_ig**"
      ]
    },
    {
      "cell_type": "code",
      "metadata": {
        "id": "5ax_yrUwUwo7"
      },
      "source": [
        "tree_ig = buat_tree_ig(data_latih,data_latih,data_latih.columns[:-1],'class')"
      ],
      "execution_count": 36,
      "outputs": []
    },
    {
      "cell_type": "markdown",
      "metadata": {
        "id": "YBqhseFmWLPq"
      },
      "source": [
        "Tampilkan tree yang terbentuk"
      ]
    },
    {
      "cell_type": "code",
      "metadata": {
        "id": "yt6_LzfIU9nR",
        "colab": {
          "base_uri": "https://localhost:8080/"
        },
        "outputId": "2cae8b93-f8c2-4515-88dc-a4b49145f428"
      },
      "source": [
        "pprint(tree_ig)"
      ],
      "execution_count": 37,
      "outputs": [
        {
          "output_type": "stream",
          "name": "stdout",
          "text": [
            "{'safety': {'high': {'buying': {'high': {'maint': {'high': {'lug_boot': {'big': 'acc',\n",
            "                                                                         'med': 'acc',\n",
            "                                                                         'small': 'acc'}},\n",
            "                                                   'low': {'lug_boot': {'big': 'acc',\n",
            "                                                                        'med': 'acc',\n",
            "                                                                        'small': 'acc'}},\n",
            "                                                   'med': {'lug_boot': {'big': 'acc',\n",
            "                                                                        'med': 'acc',\n",
            "                                                                        'small': 'acc'}},\n",
            "                                                   'vhigh': 'unacc'}},\n",
            "                                'low': {'maint': {'high': {'lug_boot': {'big': 'unacc',\n",
            "                                                                        'med': 'unacc',\n",
            "                                                                        'small': 'unacc'}},\n",
            "                                                  'low': {'lug_boot': {'big': 'unacc',\n",
            "                                                                       'med': 'unacc',\n",
            "                                                                       'small': 'unacc'}},\n",
            "                                                  'med': {'lug_boot': {'big': 'vgood',\n",
            "                                                                       'med': 'vgood',\n",
            "                                                                       'small': 'vgood'}},\n",
            "                                                  'vhigh': {'lug_boot': {'big': 'acc',\n",
            "                                                                         'med': 'acc',\n",
            "                                                                         'small': 'acc'}}}},\n",
            "                                'med': {'maint': {'high': {'lug_boot': {'big': 'acc',\n",
            "                                                                        'med': 'acc',\n",
            "                                                                        'small': 'acc'}},\n",
            "                                                  'low': {'lug_boot': {'big': 'good',\n",
            "                                                                       'med': 'good',\n",
            "                                                                       'small': 'good'}},\n",
            "                                                  'med': {'lug_boot': {'big': 'vgood',\n",
            "                                                                       'med': 'vgood',\n",
            "                                                                       'small': 'vgood'}},\n",
            "                                                  'vhigh': {'lug_boot': {'big': 'acc',\n",
            "                                                                         'med': 'acc',\n",
            "                                                                         'small': 'acc'}}}},\n",
            "                                'vhigh': {'maint': {'high': 'unacc',\n",
            "                                                    'low': {'lug_boot': {'big': 'acc',\n",
            "                                                                         'med': 'acc',\n",
            "                                                                         'small': 'acc'}},\n",
            "                                                    'med': {'lug_boot': {'big': 'acc',\n",
            "                                                                         'med': 'acc',\n",
            "                                                                         'small': 'acc'}},\n",
            "                                                    'vhigh': 'unacc'}}}},\n",
            "            'low': 'unacc',\n",
            "            'med': {'buying': {'high': {'lug_boot': {'big': {'maint': {'high': 'acc',\n",
            "                                                                       'low': 'acc',\n",
            "                                                                       'med': 'acc',\n",
            "                                                                       'vhigh': 'unacc'}},\n",
            "                                                     'med': {'maint': {'high': 'unacc',\n",
            "                                                                       'low': 'unacc',\n",
            "                                                                       'med': 'unacc',\n",
            "                                                                       'vhigh': 'unacc'}},\n",
            "                                                     'small': 'unacc'}},\n",
            "                               'low': {'maint': {'high': {'lug_boot': {'big': 'acc',\n",
            "                                                                       'med': 'acc',\n",
            "                                                                       'small': 'acc'}},\n",
            "                                                 'low': {'lug_boot': {'big': 'good',\n",
            "                                                                      'med': 'good',\n",
            "                                                                      'small': 'good'}},\n",
            "                                                 'med': {'lug_boot': {'big': 'unacc',\n",
            "                                                                      'med': 'unacc',\n",
            "                                                                      'small': 'unacc'}},\n",
            "                                                 'vhigh': {'lug_boot': {'big': 'unacc',\n",
            "                                                                        'med': 'unacc',\n",
            "                                                                        'small': 'unacc'}}}},\n",
            "                               'med': {'maint': {'high': {'lug_boot': {'big': 'unacc',\n",
            "                                                                       'med': 'unacc',\n",
            "                                                                       'small': 'unacc'}},\n",
            "                                                 'low': {'lug_boot': {'big': 'unacc',\n",
            "                                                                      'med': 'unacc',\n",
            "                                                                      'small': 'unacc'}},\n",
            "                                                 'med': {'lug_boot': {'big': 'acc',\n",
            "                                                                      'med': 'acc',\n",
            "                                                                      'small': 'acc'}},\n",
            "                                                 'vhigh': {'lug_boot': {'big': 'unacc',\n",
            "                                                                        'med': 'unacc',\n",
            "                                                                        'small': 'unacc'}}}},\n",
            "                               'vhigh': {'maint': {'high': 'unacc',\n",
            "                                                   'low': {'lug_boot': {'big': 'unacc',\n",
            "                                                                        'med': 'unacc',\n",
            "                                                                        'small': 'unacc'}},\n",
            "                                                   'med': {'lug_boot': {'big': 'unacc',\n",
            "                                                                        'med': 'unacc',\n",
            "                                                                        'small': 'unacc'}},\n",
            "                                                   'vhigh': 'unacc'}}}}}}\n"
          ]
        }
      ]
    },
    {
      "cell_type": "markdown",
      "metadata": {
        "id": "5x-TO_QCWRiX"
      },
      "source": [
        "Lakukan pengujian menggunakan tree yang terbentuk"
      ]
    },
    {
      "cell_type": "code",
      "metadata": {
        "id": "Jx0mcASEVIMZ",
        "colab": {
          "base_uri": "https://localhost:8080/"
        },
        "outputId": "2a81e4fd-6db0-4915-cf82-1f886b15377d"
      },
      "source": [
        "hasil_prediksi_total_ig = []\n",
        "for i in range(len(data_uji_dict)):\n",
        "  hasil_prediksi = prediksi(data_uji_dict[i],tree_ig)\n",
        "  hasil_prediksi_total_ig.append(hasil_prediksi)\n",
        "print(\"Total prediksi benar: \",sum(hasil_prediksi_total_ig==data_uji['class']))"
      ],
      "execution_count": 38,
      "outputs": [
        {
          "output_type": "stream",
          "name": "stdout",
          "text": [
            "Total prediksi benar:  251\n"
          ]
        }
      ]
    },
    {
      "cell_type": "markdown",
      "metadata": {
        "id": "PcWNZAZJW53r"
      },
      "source": [
        "# PERTANYAAN\n",
        "\n",
        "Jawablah pertanyaan di bawah ini"
      ]
    },
    {
      "cell_type": "markdown",
      "metadata": {
        "id": "S0cHXissXCO7"
      },
      "source": [
        "\n",
        "\n",
        "1.   Amati tree yang dihasilkan dengan kriteria percabangan GINI dan Information Gain. Apa perbedaan tree yang dihasilkan dari kedua metode tersebut?\n",
        "2.   Apakah penggunaan Information Gain dapat meningkatkan akurasi prediksi?\n",
        "\n"
      ]
    },
    {
      "cell_type": "markdown",
      "metadata": {
        "id": "wQSW_Ix3XaNT"
      },
      "source": [
        "Tulis jawaban Anda di cell ini\n",
        "\n",
        "\n",
        "1.   Seperti yang kita lihat, pohon dari Gini dan Information Gain terlihat sama. Karena sebenarnya kedua metode tersebut merupakan metode yang mirip, tetapi dengan pendekatan yang berbeda. Dimana Information gain mengukur penurunan dari entropi (tingkat keragaman), sedangkan Gini menghitung keragaman total.\n",
        "2.   Tidak, karena seperti penjelasan no.1, metode yang digunakan mirip sehingga kemungkinan bentuk kedua pohon tersebut adalah sama sangat tinggi. Tetapi hal tersebut juga dipengaruhi oleh distribusi dari dataset\n",
        "\n"
      ]
    }
  ]
}